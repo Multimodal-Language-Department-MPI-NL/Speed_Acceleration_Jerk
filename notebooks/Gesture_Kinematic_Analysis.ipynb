{
 "cells": [
  {
   "cell_type": "markdown",
   "id": "437c4af8",
   "metadata": {},
   "source": [
    "# Gesture Kinematic Analysis: Speed, Acceleration, and Jerk"
   ]
  },
  {
   "cell_type": "markdown",
   "id": "fa841978",
   "metadata": {},
   "source": [
    "## Attribution\n",
    "\n",
    "The custom functions for smoothing and calculating speed vectors and derivatives are sourced from the following EnvisionBox module: **Selecting, smoothing, and deriving measures from motion tracking, and merging with acoustics and annotations in Python**.\n",
    "\n",
    "If you found this code helpful for your research, please cite the original source code material from the EnvisionBox website:\n",
    "\n",
    "**Pouw, W. (2023).** *Selecting, smoothing, and deriving measures from motion tracking, and merging with acoustics and annotations.* [21.10.2025]. Retrieved from: https://envisionbox.org/embedded_MergingMultimodal_inPython.html\n",
    "\n",
    "---\n",
    "\n",
    "In this tutorial, we learn how to compute the kinematic features (speed, velocity, acceleration and jerk) for gestures using Mediapipe keypoints."
   ]
  },
  {
   "cell_type": "markdown",
   "id": "8335953e",
   "metadata": {},
   "source": [
    "## Script Overview"
   ]
  },
  {
   "cell_type": "markdown",
   "id": "c40e7ab1",
   "metadata": {},
   "source": [
    " - Import necessary packages\n",
    " - Read saved Mediapipe keypoints \n",
    " - Normalise the keypoints\n",
    " - Perform smoothing\n",
    " - Extract the speed, velocity, acceleration, and jerk\n",
    " - Visualise the kinematic measures"
   ]
  },
  {
   "cell_type": "markdown",
   "id": "2f2e48a2",
   "metadata": {},
   "source": []
  },
  {
   "cell_type": "code",
   "execution_count": 15,
   "id": "389696b3",
   "metadata": {},
   "outputs": [],
   "source": [
    "import pandas as pd\n",
    "import matplotlib.pyplot as plt\n",
    "import numpy as np\n",
    "\n",
    "import plotly.graph_objects as go\n",
    "from scipy.signal import butter, filtfilt\n",
    "\n",
    "from mpl_toolkits.mplot3d import Axes3D\n",
    "%matplotlib notebook"
   ]
  },
  {
   "cell_type": "code",
   "execution_count": 16,
   "id": "8a2e857f",
   "metadata": {},
   "outputs": [
    {
     "data": {
      "text/html": [
       "<div>\n",
       "<style scoped>\n",
       "    .dataframe tbody tr th:only-of-type {\n",
       "        vertical-align: middle;\n",
       "    }\n",
       "\n",
       "    .dataframe tbody tr th {\n",
       "        vertical-align: top;\n",
       "    }\n",
       "\n",
       "    .dataframe thead th {\n",
       "        text-align: right;\n",
       "    }\n",
       "</style>\n",
       "<table border=\"1\" class=\"dataframe\">\n",
       "  <thead>\n",
       "    <tr style=\"text-align: right;\">\n",
       "      <th></th>\n",
       "      <th>time</th>\n",
       "      <th>X_NOSE</th>\n",
       "      <th>Y_NOSE</th>\n",
       "      <th>Z_NOSE</th>\n",
       "      <th>visibility_NOSE</th>\n",
       "      <th>X_LEFT_EYE_INNER</th>\n",
       "      <th>Y_LEFT_EYE_INNER</th>\n",
       "      <th>Z_LEFT_EYE_INNER</th>\n",
       "      <th>visibility_LEFT_EYE_INNER</th>\n",
       "      <th>X_LEFT_EYE</th>\n",
       "      <th>...</th>\n",
       "      <th>Z_RIGHT_HEEL</th>\n",
       "      <th>visibility_RIGHT_HEEL</th>\n",
       "      <th>X_LEFT_FOOT_INDEX</th>\n",
       "      <th>Y_LEFT_FOOT_INDEX</th>\n",
       "      <th>Z_LEFT_FOOT_INDEX</th>\n",
       "      <th>visibility_LEFT_FOOT_INDEX</th>\n",
       "      <th>X_RIGHT_FOOT_INDEX</th>\n",
       "      <th>Y_RIGHT_FOOT_INDEX</th>\n",
       "      <th>Z_RIGHT_FOOT_INDEX</th>\n",
       "      <th>visibility_RIGHT_FOOT_INDEX</th>\n",
       "    </tr>\n",
       "  </thead>\n",
       "  <tbody>\n",
       "    <tr>\n",
       "      <th>0</th>\n",
       "      <td>0.000000</td>\n",
       "      <td>0.503632</td>\n",
       "      <td>0.170614</td>\n",
       "      <td>-0.387601</td>\n",
       "      <td>0.999965</td>\n",
       "      <td>0.515010</td>\n",
       "      <td>0.149007</td>\n",
       "      <td>-0.368177</td>\n",
       "      <td>0.999947</td>\n",
       "      <td>0.521415</td>\n",
       "      <td>...</td>\n",
       "      <td>0.512078</td>\n",
       "      <td>0.006639</td>\n",
       "      <td>0.512488</td>\n",
       "      <td>1.341411</td>\n",
       "      <td>0.087873</td>\n",
       "      <td>0.001159</td>\n",
       "      <td>0.396702</td>\n",
       "      <td>1.288286</td>\n",
       "      <td>0.352186</td>\n",
       "      <td>0.005587</td>\n",
       "    </tr>\n",
       "    <tr>\n",
       "      <th>1</th>\n",
       "      <td>33.366667</td>\n",
       "      <td>0.500433</td>\n",
       "      <td>0.181421</td>\n",
       "      <td>-0.547669</td>\n",
       "      <td>0.999965</td>\n",
       "      <td>0.512496</td>\n",
       "      <td>0.154659</td>\n",
       "      <td>-0.530533</td>\n",
       "      <td>0.999948</td>\n",
       "      <td>0.519399</td>\n",
       "      <td>...</td>\n",
       "      <td>0.637187</td>\n",
       "      <td>0.006476</td>\n",
       "      <td>0.513931</td>\n",
       "      <td>1.390587</td>\n",
       "      <td>0.222031</td>\n",
       "      <td>0.001126</td>\n",
       "      <td>0.401639</td>\n",
       "      <td>1.371050</td>\n",
       "      <td>0.413664</td>\n",
       "      <td>0.005456</td>\n",
       "    </tr>\n",
       "    <tr>\n",
       "      <th>2</th>\n",
       "      <td>66.733333</td>\n",
       "      <td>0.499375</td>\n",
       "      <td>0.182815</td>\n",
       "      <td>-0.469713</td>\n",
       "      <td>0.999967</td>\n",
       "      <td>0.511689</td>\n",
       "      <td>0.155652</td>\n",
       "      <td>-0.450981</td>\n",
       "      <td>0.999950</td>\n",
       "      <td>0.518643</td>\n",
       "      <td>...</td>\n",
       "      <td>0.585826</td>\n",
       "      <td>0.005932</td>\n",
       "      <td>0.516940</td>\n",
       "      <td>1.402249</td>\n",
       "      <td>0.224946</td>\n",
       "      <td>0.001030</td>\n",
       "      <td>0.420132</td>\n",
       "      <td>1.386711</td>\n",
       "      <td>0.365694</td>\n",
       "      <td>0.004993</td>\n",
       "    </tr>\n",
       "    <tr>\n",
       "      <th>3</th>\n",
       "      <td>100.100000</td>\n",
       "      <td>0.499170</td>\n",
       "      <td>0.183356</td>\n",
       "      <td>-0.476485</td>\n",
       "      <td>0.999966</td>\n",
       "      <td>0.511697</td>\n",
       "      <td>0.156496</td>\n",
       "      <td>-0.456981</td>\n",
       "      <td>0.999951</td>\n",
       "      <td>0.518673</td>\n",
       "      <td>...</td>\n",
       "      <td>0.616054</td>\n",
       "      <td>0.005448</td>\n",
       "      <td>0.517169</td>\n",
       "      <td>1.417265</td>\n",
       "      <td>0.201427</td>\n",
       "      <td>0.000959</td>\n",
       "      <td>0.425954</td>\n",
       "      <td>1.394233</td>\n",
       "      <td>0.395156</td>\n",
       "      <td>0.004646</td>\n",
       "    </tr>\n",
       "    <tr>\n",
       "      <th>4</th>\n",
       "      <td>133.466667</td>\n",
       "      <td>0.498991</td>\n",
       "      <td>0.185082</td>\n",
       "      <td>-0.459819</td>\n",
       "      <td>0.999969</td>\n",
       "      <td>0.511738</td>\n",
       "      <td>0.157429</td>\n",
       "      <td>-0.443996</td>\n",
       "      <td>0.999955</td>\n",
       "      <td>0.518811</td>\n",
       "      <td>...</td>\n",
       "      <td>0.584259</td>\n",
       "      <td>0.004950</td>\n",
       "      <td>0.512583</td>\n",
       "      <td>1.434925</td>\n",
       "      <td>0.177233</td>\n",
       "      <td>0.000887</td>\n",
       "      <td>0.431666</td>\n",
       "      <td>1.419939</td>\n",
       "      <td>0.355257</td>\n",
       "      <td>0.004256</td>\n",
       "    </tr>\n",
       "  </tbody>\n",
       "</table>\n",
       "<p>5 rows × 133 columns</p>\n",
       "</div>"
      ],
      "text/plain": [
       "         time    X_NOSE    Y_NOSE    Z_NOSE  visibility_NOSE  \\\n",
       "0    0.000000  0.503632  0.170614 -0.387601         0.999965   \n",
       "1   33.366667  0.500433  0.181421 -0.547669         0.999965   \n",
       "2   66.733333  0.499375  0.182815 -0.469713         0.999967   \n",
       "3  100.100000  0.499170  0.183356 -0.476485         0.999966   \n",
       "4  133.466667  0.498991  0.185082 -0.459819         0.999969   \n",
       "\n",
       "   X_LEFT_EYE_INNER  Y_LEFT_EYE_INNER  Z_LEFT_EYE_INNER  \\\n",
       "0          0.515010          0.149007         -0.368177   \n",
       "1          0.512496          0.154659         -0.530533   \n",
       "2          0.511689          0.155652         -0.450981   \n",
       "3          0.511697          0.156496         -0.456981   \n",
       "4          0.511738          0.157429         -0.443996   \n",
       "\n",
       "   visibility_LEFT_EYE_INNER  X_LEFT_EYE  ...  Z_RIGHT_HEEL  \\\n",
       "0                   0.999947    0.521415  ...      0.512078   \n",
       "1                   0.999948    0.519399  ...      0.637187   \n",
       "2                   0.999950    0.518643  ...      0.585826   \n",
       "3                   0.999951    0.518673  ...      0.616054   \n",
       "4                   0.999955    0.518811  ...      0.584259   \n",
       "\n",
       "   visibility_RIGHT_HEEL  X_LEFT_FOOT_INDEX  Y_LEFT_FOOT_INDEX  \\\n",
       "0               0.006639           0.512488           1.341411   \n",
       "1               0.006476           0.513931           1.390587   \n",
       "2               0.005932           0.516940           1.402249   \n",
       "3               0.005448           0.517169           1.417265   \n",
       "4               0.004950           0.512583           1.434925   \n",
       "\n",
       "   Z_LEFT_FOOT_INDEX  visibility_LEFT_FOOT_INDEX  X_RIGHT_FOOT_INDEX  \\\n",
       "0           0.087873                    0.001159            0.396702   \n",
       "1           0.222031                    0.001126            0.401639   \n",
       "2           0.224946                    0.001030            0.420132   \n",
       "3           0.201427                    0.000959            0.425954   \n",
       "4           0.177233                    0.000887            0.431666   \n",
       "\n",
       "   Y_RIGHT_FOOT_INDEX  Z_RIGHT_FOOT_INDEX  visibility_RIGHT_FOOT_INDEX  \n",
       "0            1.288286            0.352186                     0.005587  \n",
       "1            1.371050            0.413664                     0.005456  \n",
       "2            1.386711            0.365694                     0.004993  \n",
       "3            1.394233            0.395156                     0.004646  \n",
       "4            1.419939            0.355257                     0.004256  \n",
       "\n",
       "[5 rows x 133 columns]"
      ]
     },
     "execution_count": 16,
     "metadata": {},
     "output_type": "execute_result"
    }
   ],
   "source": [
    "data = pd.read_csv('../Mediapipe_results/Cheeseburger_short_body.csv')\n",
    "data.head()"
   ]
  },
  {
   "cell_type": "markdown",
   "id": "9e490419",
   "metadata": {},
   "source": [
    "## Normalisation "
   ]
  },
  {
   "cell_type": "markdown",
   "id": "2e4bcbf8",
   "metadata": {},
   "source": [
    "For more information on normalisation, please refer to the [Normalization](https://github.com/Multimodal-Language-Department-MPI-NL/Normalization) notebook.\n",
    "Normalization of keypoints is important for ensuring a consistent representation of poses across different frames and individuals. Moreover, it addresses the potential variance in the actual position of a person in the image, directing the pose representation to emphasize the relative positions of body parts rather than their absolute positions.\n",
    "\n",
    "\n",
    "The following code normalizes a set of keypoints representing a skeleton by centering them around the mean position between the left and right shoulders and scaling them based on the distance between these shoulders. "
   ]
  },
  {
   "cell_type": "code",
   "execution_count": 17,
   "id": "f4c12c6b",
   "metadata": {},
   "outputs": [],
   "source": [
    "def normalize_skeleton_landmarks(keypoints):\n",
    "    left_shoulder, right_shoulder = 11, 12  # Assuming the indices for left and right shoulder in markersbody\n",
    "    mid = keypoints[:, [left_shoulder, right_shoulder], :].mean(axis=1, keepdims=True)\n",
    "\n",
    "    shoulder_length = np.linalg.norm(keypoints[:, left_shoulder, :] - keypoints[:, right_shoulder, :], ord=2, axis=1)\n",
    "    normalized_keypts = (keypoints - mid) / shoulder_length[:, None, None]\n",
    "    return normalized_keypts"
   ]
  },
  {
   "cell_type": "code",
   "execution_count": 18,
   "id": "849f2757",
   "metadata": {},
   "outputs": [],
   "source": [
    "markersbody = ['NOSE', 'LEFT_EYE_INNER', 'LEFT_EYE', 'LEFT_EYE_OUTER', 'RIGHT_EYE_INNER', 'RIGHT_EYE', 'RIGHT_EYE_OUTER',\n",
    "          'LEFT_EAR', 'RIGHT_EAR', 'MOUTH_LEFT', 'MOUTH_RIGHT', 'LEFT_SHOULDER', 'RIGHT_SHOULDER', 'LEFT_ELBOW', \n",
    "          'RIGHT_ELBOW', 'LEFT_WRIST', 'RIGHT_WRIST', 'LEFT_PINKY', 'RIGHT_PINKY', 'LEFT_INDEX', 'RIGHT_INDEX',\n",
    "          'LEFT_THUMB', 'RIGHT_THUMB', 'LEFT_HIP', 'RIGHT_HIP', 'LEFT_KNEE', 'RIGHT_KNEE', 'LEFT_ANKLE', 'RIGHT_ANKLE',\n",
    "          'LEFT_HEEL', 'RIGHT_HEEL', 'LEFT_FOOT_INDEX', 'RIGHT_FOOT_INDEX']\n",
    "\n",
    "xyz_columns = [axis + '_' + landmark  for landmark in markersbody for axis in ['X', 'Y', 'Z']]\n",
    "\n",
    "\n",
    "# Select only the columns representing X, Y, Z coordinates\n",
    "keypoints_columns = data[xyz_columns]\n",
    "\n",
    "\n",
    "# Take the absolute value of Z coordinates\n",
    "z_columns = [col for col in keypoints_columns.columns if col.startswith('Z_')]\n",
    "\n",
    "# Reshape the data into the required format (num_frames, num_keypoints, 3)\n",
    "num_keypoints = len(xyz_columns) // 3\n",
    "keypoints_array = keypoints_columns.values.reshape(-1, num_keypoints, 3)\n",
    "\n",
    "# Apply normalization function\n",
    "normalized_keypoints = normalize_skeleton_landmarks(keypoints_array)\n",
    "\n",
    "# Update the DataFrame with the normalized values\n",
    "normalized_keypoints_df = pd.DataFrame(normalized_keypoints.reshape(-1, num_keypoints * 3), columns=xyz_columns)\n"
   ]
  },
  {
   "cell_type": "markdown",
   "id": "d7355453",
   "metadata": {},
   "source": [
    "## Data Visualisation"
   ]
  },
  {
   "cell_type": "code",
   "execution_count": 19,
   "id": "5689d817",
   "metadata": {},
   "outputs": [],
   "source": [
    "def getSkeletalModelStructure():\n",
    "    # Definition of skeleton model structure:\n",
    "    # The structure is an n-tuple of:\n",
    "    # (index of a start point, index of an end point, index of a bone)\n",
    "\n",
    "    return (\n",
    "        # nose\n",
    "        (0, 1, 0),\n",
    "        (0, 4, 0),\n",
    "\n",
    "        # eyes\n",
    "        (1, 2, 1),\n",
    "        (2, 3, 1),\n",
    "        (4, 5, 1),\n",
    "        (5, 6, 1),\n",
    "\n",
    "        # ears\n",
    "        (6, 8, 2),\n",
    "        (3, 7, 2),\n",
    "\n",
    "        # mouth\n",
    "        (9, 10, 3),\n",
    "\n",
    "        # collar bone\n",
    "        (11, 12, 4),\n",
    "        (12, 24, 4),\n",
    "        (11, 23, 4),\n",
    "        (24, 23, 4),\n",
    "        (24, 26, 4),\n",
    "        (23, 25, 4),\n",
    "        (26, 28, 4),\n",
    "        (25, 27, 4),\n",
    "        (28, 30, 4),\n",
    "        (30, 32, 4),\n",
    "        (28, 32, 4),\n",
    "        (27, 31, 4),\n",
    "        (27, 29, 4),\n",
    "        (29, 31, 4),\n",
    "\n",
    "        # arms\n",
    "        (12, 14, 5),\n",
    "        (11, 13, 5),\n",
    "\n",
    "        # hands\n",
    "        (13, 15, 6),\n",
    "        (14, 16, 6),\n",
    "\n",
    "        # fingers\n",
    "        (15, 21, 7),\n",
    "        (15, 17, 7),\n",
    "        (15, 19, 7),\n",
    "        (17, 19, 7),\n",
    "        (16, 18, 7),\n",
    "        (16, 22, 7),\n",
    "        (16, 20, 7),\n",
    "        (18, 20, 7)\n",
    "    )"
   ]
  },
  {
   "cell_type": "code",
   "execution_count": 20,
   "id": "c9c9d424",
   "metadata": {},
   "outputs": [
    {
     "data": {
      "application/javascript": "/* Put everything inside the global mpl namespace */\n/* global mpl */\nwindow.mpl = {};\n\nmpl.get_websocket_type = function () {\n    if (typeof WebSocket !== 'undefined') {\n        return WebSocket;\n    } else if (typeof MozWebSocket !== 'undefined') {\n        return MozWebSocket;\n    } else {\n        alert(\n            'Your browser does not have WebSocket support. ' +\n                'Please try Chrome, Safari or Firefox ≥ 6. ' +\n                'Firefox 4 and 5 are also supported but you ' +\n                'have to enable WebSockets in about:config.'\n        );\n    }\n};\n\nmpl.figure = function (figure_id, websocket, ondownload, parent_element) {\n    this.id = figure_id;\n\n    this.ws = websocket;\n\n    this.supports_binary = this.ws.binaryType !== undefined;\n\n    if (!this.supports_binary) {\n        var warnings = document.getElementById('mpl-warnings');\n        if (warnings) {\n            warnings.style.display = 'block';\n            warnings.textContent =\n                'This browser does not support binary websocket messages. ' +\n                'Performance may be slow.';\n        }\n    }\n\n    this.imageObj = new Image();\n\n    this.context = undefined;\n    this.message = undefined;\n    this.canvas = undefined;\n    this.rubberband_canvas = undefined;\n    this.rubberband_context = undefined;\n    this.format_dropdown = undefined;\n\n    this.image_mode = 'full';\n\n    this.root = document.createElement('div');\n    this.root.setAttribute('style', 'display: inline-block');\n    this._root_extra_style(this.root);\n\n    parent_element.appendChild(this.root);\n\n    this._init_header(this);\n    this._init_canvas(this);\n    this._init_toolbar(this);\n\n    var fig = this;\n\n    this.waiting = false;\n\n    this.ws.onopen = function () {\n        fig.send_message('supports_binary', { value: fig.supports_binary });\n        fig.send_message('send_image_mode', {});\n        if (fig.ratio !== 1) {\n            fig.send_message('set_device_pixel_ratio', {\n                device_pixel_ratio: fig.ratio,\n            });\n        }\n        fig.send_message('refresh', {});\n    };\n\n    this.imageObj.onload = function () {\n        if (fig.image_mode === 'full') {\n            // Full images could contain transparency (where diff images\n            // almost always do), so we need to clear the canvas so that\n            // there is no ghosting.\n            fig.context.clearRect(0, 0, fig.canvas.width, fig.canvas.height);\n        }\n        fig.context.drawImage(fig.imageObj, 0, 0);\n    };\n\n    this.imageObj.onunload = function () {\n        fig.ws.close();\n    };\n\n    this.ws.onmessage = this._make_on_message_function(this);\n\n    this.ondownload = ondownload;\n};\n\nmpl.figure.prototype._init_header = function () {\n    var titlebar = document.createElement('div');\n    titlebar.classList =\n        'ui-dialog-titlebar ui-widget-header ui-corner-all ui-helper-clearfix';\n    var titletext = document.createElement('div');\n    titletext.classList = 'ui-dialog-title';\n    titletext.setAttribute(\n        'style',\n        'width: 100%; text-align: center; padding: 3px;'\n    );\n    titlebar.appendChild(titletext);\n    this.root.appendChild(titlebar);\n    this.header = titletext;\n};\n\nmpl.figure.prototype._canvas_extra_style = function (_canvas_div) {};\n\nmpl.figure.prototype._root_extra_style = function (_canvas_div) {};\n\nmpl.figure.prototype._init_canvas = function () {\n    var fig = this;\n\n    var canvas_div = (this.canvas_div = document.createElement('div'));\n    canvas_div.setAttribute('tabindex', '0');\n    canvas_div.setAttribute(\n        'style',\n        'border: 1px solid #ddd;' +\n            'box-sizing: content-box;' +\n            'clear: both;' +\n            'min-height: 1px;' +\n            'min-width: 1px;' +\n            'outline: 0;' +\n            'overflow: hidden;' +\n            'position: relative;' +\n            'resize: both;' +\n            'z-index: 2;'\n    );\n\n    function on_keyboard_event_closure(name) {\n        return function (event) {\n            return fig.key_event(event, name);\n        };\n    }\n\n    canvas_div.addEventListener(\n        'keydown',\n        on_keyboard_event_closure('key_press')\n    );\n    canvas_div.addEventListener(\n        'keyup',\n        on_keyboard_event_closure('key_release')\n    );\n\n    this._canvas_extra_style(canvas_div);\n    this.root.appendChild(canvas_div);\n\n    var canvas = (this.canvas = document.createElement('canvas'));\n    canvas.classList.add('mpl-canvas');\n    canvas.setAttribute(\n        'style',\n        'box-sizing: content-box;' +\n            'pointer-events: none;' +\n            'position: relative;' +\n            'z-index: 0;'\n    );\n\n    this.context = canvas.getContext('2d');\n\n    var backingStore =\n        this.context.backingStorePixelRatio ||\n        this.context.webkitBackingStorePixelRatio ||\n        this.context.mozBackingStorePixelRatio ||\n        this.context.msBackingStorePixelRatio ||\n        this.context.oBackingStorePixelRatio ||\n        this.context.backingStorePixelRatio ||\n        1;\n\n    this.ratio = (window.devicePixelRatio || 1) / backingStore;\n\n    var rubberband_canvas = (this.rubberband_canvas = document.createElement(\n        'canvas'\n    ));\n    rubberband_canvas.setAttribute(\n        'style',\n        'box-sizing: content-box;' +\n            'left: 0;' +\n            'pointer-events: none;' +\n            'position: absolute;' +\n            'top: 0;' +\n            'z-index: 1;'\n    );\n\n    // Apply a ponyfill if ResizeObserver is not implemented by browser.\n    if (this.ResizeObserver === undefined) {\n        if (window.ResizeObserver !== undefined) {\n            this.ResizeObserver = window.ResizeObserver;\n        } else {\n            var obs = _JSXTOOLS_RESIZE_OBSERVER({});\n            this.ResizeObserver = obs.ResizeObserver;\n        }\n    }\n\n    this.resizeObserverInstance = new this.ResizeObserver(function (entries) {\n        var nentries = entries.length;\n        for (var i = 0; i < nentries; i++) {\n            var entry = entries[i];\n            var width, height;\n            if (entry.contentBoxSize) {\n                if (entry.contentBoxSize instanceof Array) {\n                    // Chrome 84 implements new version of spec.\n                    width = entry.contentBoxSize[0].inlineSize;\n                    height = entry.contentBoxSize[0].blockSize;\n                } else {\n                    // Firefox implements old version of spec.\n                    width = entry.contentBoxSize.inlineSize;\n                    height = entry.contentBoxSize.blockSize;\n                }\n            } else {\n                // Chrome <84 implements even older version of spec.\n                width = entry.contentRect.width;\n                height = entry.contentRect.height;\n            }\n\n            // Keep the size of the canvas and rubber band canvas in sync with\n            // the canvas container.\n            if (entry.devicePixelContentBoxSize) {\n                // Chrome 84 implements new version of spec.\n                canvas.setAttribute(\n                    'width',\n                    entry.devicePixelContentBoxSize[0].inlineSize\n                );\n                canvas.setAttribute(\n                    'height',\n                    entry.devicePixelContentBoxSize[0].blockSize\n                );\n            } else {\n                canvas.setAttribute('width', width * fig.ratio);\n                canvas.setAttribute('height', height * fig.ratio);\n            }\n            /* This rescales the canvas back to display pixels, so that it\n             * appears correct on HiDPI screens. */\n            canvas.style.width = width + 'px';\n            canvas.style.height = height + 'px';\n\n            rubberband_canvas.setAttribute('width', width);\n            rubberband_canvas.setAttribute('height', height);\n\n            // And update the size in Python. We ignore the initial 0/0 size\n            // that occurs as the element is placed into the DOM, which should\n            // otherwise not happen due to the minimum size styling.\n            if (fig.ws.readyState == 1 && width != 0 && height != 0) {\n                fig.request_resize(width, height);\n            }\n        }\n    });\n    this.resizeObserverInstance.observe(canvas_div);\n\n    function on_mouse_event_closure(name) {\n        /* User Agent sniffing is bad, but WebKit is busted:\n         * https://bugs.webkit.org/show_bug.cgi?id=144526\n         * https://bugs.webkit.org/show_bug.cgi?id=181818\n         * The worst that happens here is that they get an extra browser\n         * selection when dragging, if this check fails to catch them.\n         */\n        var UA = navigator.userAgent;\n        var isWebKit = /AppleWebKit/.test(UA) && !/Chrome/.test(UA);\n        if(isWebKit) {\n            return function (event) {\n                /* This prevents the web browser from automatically changing to\n                 * the text insertion cursor when the button is pressed. We\n                 * want to control all of the cursor setting manually through\n                 * the 'cursor' event from matplotlib */\n                event.preventDefault()\n                return fig.mouse_event(event, name);\n            };\n        } else {\n            return function (event) {\n                return fig.mouse_event(event, name);\n            };\n        }\n    }\n\n    canvas_div.addEventListener(\n        'mousedown',\n        on_mouse_event_closure('button_press')\n    );\n    canvas_div.addEventListener(\n        'mouseup',\n        on_mouse_event_closure('button_release')\n    );\n    canvas_div.addEventListener(\n        'dblclick',\n        on_mouse_event_closure('dblclick')\n    );\n    // Throttle sequential mouse events to 1 every 20ms.\n    canvas_div.addEventListener(\n        'mousemove',\n        on_mouse_event_closure('motion_notify')\n    );\n\n    canvas_div.addEventListener(\n        'mouseenter',\n        on_mouse_event_closure('figure_enter')\n    );\n    canvas_div.addEventListener(\n        'mouseleave',\n        on_mouse_event_closure('figure_leave')\n    );\n\n    canvas_div.addEventListener('wheel', function (event) {\n        if (event.deltaY < 0) {\n            event.step = 1;\n        } else {\n            event.step = -1;\n        }\n        on_mouse_event_closure('scroll')(event);\n    });\n\n    canvas_div.appendChild(canvas);\n    canvas_div.appendChild(rubberband_canvas);\n\n    this.rubberband_context = rubberband_canvas.getContext('2d');\n    this.rubberband_context.strokeStyle = '#000000';\n\n    this._resize_canvas = function (width, height, forward) {\n        if (forward) {\n            canvas_div.style.width = width + 'px';\n            canvas_div.style.height = height + 'px';\n        }\n    };\n\n    // Disable right mouse context menu.\n    canvas_div.addEventListener('contextmenu', function (_e) {\n        event.preventDefault();\n        return false;\n    });\n\n    function set_focus() {\n        canvas.focus();\n        canvas_div.focus();\n    }\n\n    window.setTimeout(set_focus, 100);\n};\n\nmpl.figure.prototype._init_toolbar = function () {\n    var fig = this;\n\n    var toolbar = document.createElement('div');\n    toolbar.classList = 'mpl-toolbar';\n    this.root.appendChild(toolbar);\n\n    function on_click_closure(name) {\n        return function (_event) {\n            return fig.toolbar_button_onclick(name);\n        };\n    }\n\n    function on_mouseover_closure(tooltip) {\n        return function (event) {\n            if (!event.currentTarget.disabled) {\n                return fig.toolbar_button_onmouseover(tooltip);\n            }\n        };\n    }\n\n    fig.buttons = {};\n    var buttonGroup = document.createElement('div');\n    buttonGroup.classList = 'mpl-button-group';\n    for (var toolbar_ind in mpl.toolbar_items) {\n        var name = mpl.toolbar_items[toolbar_ind][0];\n        var tooltip = mpl.toolbar_items[toolbar_ind][1];\n        var image = mpl.toolbar_items[toolbar_ind][2];\n        var method_name = mpl.toolbar_items[toolbar_ind][3];\n\n        if (!name) {\n            /* Instead of a spacer, we start a new button group. */\n            if (buttonGroup.hasChildNodes()) {\n                toolbar.appendChild(buttonGroup);\n            }\n            buttonGroup = document.createElement('div');\n            buttonGroup.classList = 'mpl-button-group';\n            continue;\n        }\n\n        var button = (fig.buttons[name] = document.createElement('button'));\n        button.classList = 'mpl-widget';\n        button.setAttribute('role', 'button');\n        button.setAttribute('aria-disabled', 'false');\n        button.addEventListener('click', on_click_closure(method_name));\n        button.addEventListener('mouseover', on_mouseover_closure(tooltip));\n\n        var icon_img = document.createElement('img');\n        icon_img.src = '_images/' + image + '.png';\n        icon_img.srcset = '_images/' + image + '_large.png 2x';\n        icon_img.alt = tooltip;\n        button.appendChild(icon_img);\n\n        buttonGroup.appendChild(button);\n    }\n\n    if (buttonGroup.hasChildNodes()) {\n        toolbar.appendChild(buttonGroup);\n    }\n\n    var fmt_picker = document.createElement('select');\n    fmt_picker.classList = 'mpl-widget';\n    toolbar.appendChild(fmt_picker);\n    this.format_dropdown = fmt_picker;\n\n    for (var ind in mpl.extensions) {\n        var fmt = mpl.extensions[ind];\n        var option = document.createElement('option');\n        option.selected = fmt === mpl.default_extension;\n        option.innerHTML = fmt;\n        fmt_picker.appendChild(option);\n    }\n\n    var status_bar = document.createElement('span');\n    status_bar.classList = 'mpl-message';\n    toolbar.appendChild(status_bar);\n    this.message = status_bar;\n};\n\nmpl.figure.prototype.request_resize = function (x_pixels, y_pixels) {\n    // Request matplotlib to resize the figure. Matplotlib will then trigger a resize in the client,\n    // which will in turn request a refresh of the image.\n    this.send_message('resize', { width: x_pixels, height: y_pixels });\n};\n\nmpl.figure.prototype.send_message = function (type, properties) {\n    properties['type'] = type;\n    properties['figure_id'] = this.id;\n    this.ws.send(JSON.stringify(properties));\n};\n\nmpl.figure.prototype.send_draw_message = function () {\n    if (!this.waiting) {\n        this.waiting = true;\n        this.ws.send(JSON.stringify({ type: 'draw', figure_id: this.id }));\n    }\n};\n\nmpl.figure.prototype.handle_save = function (fig, _msg) {\n    var format_dropdown = fig.format_dropdown;\n    var format = format_dropdown.options[format_dropdown.selectedIndex].value;\n    fig.ondownload(fig, format);\n};\n\nmpl.figure.prototype.handle_resize = function (fig, msg) {\n    var size = msg['size'];\n    if (size[0] !== fig.canvas.width || size[1] !== fig.canvas.height) {\n        fig._resize_canvas(size[0], size[1], msg['forward']);\n        fig.send_message('refresh', {});\n    }\n};\n\nmpl.figure.prototype.handle_rubberband = function (fig, msg) {\n    var x0 = msg['x0'] / fig.ratio;\n    var y0 = (fig.canvas.height - msg['y0']) / fig.ratio;\n    var x1 = msg['x1'] / fig.ratio;\n    var y1 = (fig.canvas.height - msg['y1']) / fig.ratio;\n    x0 = Math.floor(x0) + 0.5;\n    y0 = Math.floor(y0) + 0.5;\n    x1 = Math.floor(x1) + 0.5;\n    y1 = Math.floor(y1) + 0.5;\n    var min_x = Math.min(x0, x1);\n    var min_y = Math.min(y0, y1);\n    var width = Math.abs(x1 - x0);\n    var height = Math.abs(y1 - y0);\n\n    fig.rubberband_context.clearRect(\n        0,\n        0,\n        fig.canvas.width / fig.ratio,\n        fig.canvas.height / fig.ratio\n    );\n\n    fig.rubberband_context.strokeRect(min_x, min_y, width, height);\n};\n\nmpl.figure.prototype.handle_figure_label = function (fig, msg) {\n    // Updates the figure title.\n    fig.header.textContent = msg['label'];\n};\n\nmpl.figure.prototype.handle_cursor = function (fig, msg) {\n    fig.canvas_div.style.cursor = msg['cursor'];\n};\n\nmpl.figure.prototype.handle_message = function (fig, msg) {\n    fig.message.textContent = msg['message'];\n};\n\nmpl.figure.prototype.handle_draw = function (fig, _msg) {\n    // Request the server to send over a new figure.\n    fig.send_draw_message();\n};\n\nmpl.figure.prototype.handle_image_mode = function (fig, msg) {\n    fig.image_mode = msg['mode'];\n};\n\nmpl.figure.prototype.handle_history_buttons = function (fig, msg) {\n    for (var key in msg) {\n        if (!(key in fig.buttons)) {\n            continue;\n        }\n        fig.buttons[key].disabled = !msg[key];\n        fig.buttons[key].setAttribute('aria-disabled', !msg[key]);\n    }\n};\n\nmpl.figure.prototype.handle_navigate_mode = function (fig, msg) {\n    if (msg['mode'] === 'PAN') {\n        fig.buttons['Pan'].classList.add('active');\n        fig.buttons['Zoom'].classList.remove('active');\n    } else if (msg['mode'] === 'ZOOM') {\n        fig.buttons['Pan'].classList.remove('active');\n        fig.buttons['Zoom'].classList.add('active');\n    } else {\n        fig.buttons['Pan'].classList.remove('active');\n        fig.buttons['Zoom'].classList.remove('active');\n    }\n};\n\nmpl.figure.prototype.updated_canvas_event = function () {\n    // Called whenever the canvas gets updated.\n    this.send_message('ack', {});\n};\n\n// A function to construct a web socket function for onmessage handling.\n// Called in the figure constructor.\nmpl.figure.prototype._make_on_message_function = function (fig) {\n    return function socket_on_message(evt) {\n        if (evt.data instanceof Blob) {\n            var img = evt.data;\n            if (img.type !== 'image/png') {\n                /* FIXME: We get \"Resource interpreted as Image but\n                 * transferred with MIME type text/plain:\" errors on\n                 * Chrome.  But how to set the MIME type?  It doesn't seem\n                 * to be part of the websocket stream */\n                img.type = 'image/png';\n            }\n\n            /* Free the memory for the previous frames */\n            if (fig.imageObj.src) {\n                (window.URL || window.webkitURL).revokeObjectURL(\n                    fig.imageObj.src\n                );\n            }\n\n            fig.imageObj.src = (window.URL || window.webkitURL).createObjectURL(\n                img\n            );\n            fig.updated_canvas_event();\n            fig.waiting = false;\n            return;\n        } else if (\n            typeof evt.data === 'string' &&\n            evt.data.slice(0, 21) === 'data:image/png;base64'\n        ) {\n            fig.imageObj.src = evt.data;\n            fig.updated_canvas_event();\n            fig.waiting = false;\n            return;\n        }\n\n        var msg = JSON.parse(evt.data);\n        var msg_type = msg['type'];\n\n        // Call the  \"handle_{type}\" callback, which takes\n        // the figure and JSON message as its only arguments.\n        try {\n            var callback = fig['handle_' + msg_type];\n        } catch (e) {\n            console.log(\n                \"No handler for the '\" + msg_type + \"' message type: \",\n                msg\n            );\n            return;\n        }\n\n        if (callback) {\n            try {\n                // console.log(\"Handling '\" + msg_type + \"' message: \", msg);\n                callback(fig, msg);\n            } catch (e) {\n                console.log(\n                    \"Exception inside the 'handler_\" + msg_type + \"' callback:\",\n                    e,\n                    e.stack,\n                    msg\n                );\n            }\n        }\n    };\n};\n\nfunction getModifiers(event) {\n    var mods = [];\n    if (event.ctrlKey) {\n        mods.push('ctrl');\n    }\n    if (event.altKey) {\n        mods.push('alt');\n    }\n    if (event.shiftKey) {\n        mods.push('shift');\n    }\n    if (event.metaKey) {\n        mods.push('meta');\n    }\n    return mods;\n}\n\n/*\n * return a copy of an object with only non-object keys\n * we need this to avoid circular references\n * https://stackoverflow.com/a/24161582/3208463\n */\nfunction simpleKeys(original) {\n    return Object.keys(original).reduce(function (obj, key) {\n        if (typeof original[key] !== 'object') {\n            obj[key] = original[key];\n        }\n        return obj;\n    }, {});\n}\n\nmpl.figure.prototype.mouse_event = function (event, name) {\n    if (name === 'button_press') {\n        this.canvas.focus();\n        this.canvas_div.focus();\n    }\n\n    // from https://stackoverflow.com/q/1114465\n    var boundingRect = this.canvas.getBoundingClientRect();\n    var x = (event.clientX - boundingRect.left) * this.ratio;\n    var y = (event.clientY - boundingRect.top) * this.ratio;\n\n    this.send_message(name, {\n        x: x,\n        y: y,\n        button: event.button,\n        step: event.step,\n        modifiers: getModifiers(event),\n        guiEvent: simpleKeys(event),\n    });\n\n    return false;\n};\n\nmpl.figure.prototype._key_event_extra = function (_event, _name) {\n    // Handle any extra behaviour associated with a key event\n};\n\nmpl.figure.prototype.key_event = function (event, name) {\n    // Prevent repeat events\n    if (name === 'key_press') {\n        if (event.key === this._key) {\n            return;\n        } else {\n            this._key = event.key;\n        }\n    }\n    if (name === 'key_release') {\n        this._key = null;\n    }\n\n    var value = '';\n    if (event.ctrlKey && event.key !== 'Control') {\n        value += 'ctrl+';\n    }\n    else if (event.altKey && event.key !== 'Alt') {\n        value += 'alt+';\n    }\n    else if (event.shiftKey && event.key !== 'Shift') {\n        value += 'shift+';\n    }\n\n    value += 'k' + event.key;\n\n    this._key_event_extra(event, name);\n\n    this.send_message(name, { key: value, guiEvent: simpleKeys(event) });\n    return false;\n};\n\nmpl.figure.prototype.toolbar_button_onclick = function (name) {\n    if (name === 'download') {\n        this.handle_save(this, null);\n    } else {\n        this.send_message('toolbar_button', { name: name });\n    }\n};\n\nmpl.figure.prototype.toolbar_button_onmouseover = function (tooltip) {\n    this.message.textContent = tooltip;\n};\n\n///////////////// REMAINING CONTENT GENERATED BY embed_js.py /////////////////\n// prettier-ignore\nvar _JSXTOOLS_RESIZE_OBSERVER=function(A){var t,i=new WeakMap,n=new WeakMap,a=new WeakMap,r=new WeakMap,o=new Set;function s(e){if(!(this instanceof s))throw new TypeError(\"Constructor requires 'new' operator\");i.set(this,e)}function h(){throw new TypeError(\"Function is not a constructor\")}function c(e,t,i,n){e=0 in arguments?Number(arguments[0]):0,t=1 in arguments?Number(arguments[1]):0,i=2 in arguments?Number(arguments[2]):0,n=3 in arguments?Number(arguments[3]):0,this.right=(this.x=this.left=e)+(this.width=i),this.bottom=(this.y=this.top=t)+(this.height=n),Object.freeze(this)}function d(){t=requestAnimationFrame(d);var s=new WeakMap,p=new Set;o.forEach((function(t){r.get(t).forEach((function(i){var r=t instanceof window.SVGElement,o=a.get(t),d=r?0:parseFloat(o.paddingTop),f=r?0:parseFloat(o.paddingRight),l=r?0:parseFloat(o.paddingBottom),u=r?0:parseFloat(o.paddingLeft),g=r?0:parseFloat(o.borderTopWidth),m=r?0:parseFloat(o.borderRightWidth),w=r?0:parseFloat(o.borderBottomWidth),b=u+f,F=d+l,v=(r?0:parseFloat(o.borderLeftWidth))+m,W=g+w,y=r?0:t.offsetHeight-W-t.clientHeight,E=r?0:t.offsetWidth-v-t.clientWidth,R=b+v,z=F+W,M=r?t.width:parseFloat(o.width)-R-E,O=r?t.height:parseFloat(o.height)-z-y;if(n.has(t)){var k=n.get(t);if(k[0]===M&&k[1]===O)return}n.set(t,[M,O]);var S=Object.create(h.prototype);S.target=t,S.contentRect=new c(u,d,M,O),s.has(i)||(s.set(i,[]),p.add(i)),s.get(i).push(S)}))})),p.forEach((function(e){i.get(e).call(e,s.get(e),e)}))}return s.prototype.observe=function(i){if(i instanceof window.Element){r.has(i)||(r.set(i,new Set),o.add(i),a.set(i,window.getComputedStyle(i)));var n=r.get(i);n.has(this)||n.add(this),cancelAnimationFrame(t),t=requestAnimationFrame(d)}},s.prototype.unobserve=function(i){if(i instanceof window.Element&&r.has(i)){var n=r.get(i);n.has(this)&&(n.delete(this),n.size||(r.delete(i),o.delete(i))),n.size||r.delete(i),o.size||cancelAnimationFrame(t)}},A.DOMRectReadOnly=c,A.ResizeObserver=s,A.ResizeObserverEntry=h,A}; // eslint-disable-line\nmpl.toolbar_items = [[\"Home\", \"Reset original view\", \"fa fa-home\", \"home\"], [\"Back\", \"Back to previous view\", \"fa fa-arrow-left\", \"back\"], [\"Forward\", \"Forward to next view\", \"fa fa-arrow-right\", \"forward\"], [\"\", \"\", \"\", \"\"], [\"Pan\", \"Left button pans, Right button zooms\\nx/y fixes axis, CTRL fixes aspect\", \"fa fa-arrows\", \"pan\"], [\"Zoom\", \"Zoom to rectangle\\nx/y fixes axis\", \"fa fa-square-o\", \"zoom\"], [\"\", \"\", \"\", \"\"], [\"Download\", \"Download plot\", \"fa fa-floppy-o\", \"download\"]];\n\nmpl.extensions = [\"eps\", \"jpeg\", \"pgf\", \"pdf\", \"png\", \"ps\", \"raw\", \"svg\", \"tif\", \"webp\"];\n\nmpl.default_extension = \"png\";/* global mpl */\n\nvar comm_websocket_adapter = function (comm) {\n    // Create a \"websocket\"-like object which calls the given IPython comm\n    // object with the appropriate methods. Currently this is a non binary\n    // socket, so there is still some room for performance tuning.\n    var ws = {};\n\n    ws.binaryType = comm.kernel.ws.binaryType;\n    ws.readyState = comm.kernel.ws.readyState;\n    function updateReadyState(_event) {\n        if (comm.kernel.ws) {\n            ws.readyState = comm.kernel.ws.readyState;\n        } else {\n            ws.readyState = 3; // Closed state.\n        }\n    }\n    comm.kernel.ws.addEventListener('open', updateReadyState);\n    comm.kernel.ws.addEventListener('close', updateReadyState);\n    comm.kernel.ws.addEventListener('error', updateReadyState);\n\n    ws.close = function () {\n        comm.close();\n    };\n    ws.send = function (m) {\n        //console.log('sending', m);\n        comm.send(m);\n    };\n    // Register the callback with on_msg.\n    comm.on_msg(function (msg) {\n        //console.log('receiving', msg['content']['data'], msg);\n        var data = msg['content']['data'];\n        if (data['blob'] !== undefined) {\n            data = {\n                data: new Blob(msg['buffers'], { type: data['blob'] }),\n            };\n        }\n        // Pass the mpl event to the overridden (by mpl) onmessage function.\n        ws.onmessage(data);\n    });\n    return ws;\n};\n\nmpl.mpl_figure_comm = function (comm, msg) {\n    // This is the function which gets called when the mpl process\n    // starts-up an IPython Comm through the \"matplotlib\" channel.\n\n    var id = msg.content.data.id;\n    // Get hold of the div created by the display call when the Comm\n    // socket was opened in Python.\n    var element = document.getElementById(id);\n    var ws_proxy = comm_websocket_adapter(comm);\n\n    function ondownload(figure, _format) {\n        window.open(figure.canvas.toDataURL());\n    }\n\n    var fig = new mpl.figure(id, ws_proxy, ondownload, element);\n\n    // Call onopen now - mpl needs it, as it is assuming we've passed it a real\n    // web socket which is closed, not our websocket->open comm proxy.\n    ws_proxy.onopen();\n\n    fig.parent_element = element;\n    fig.cell_info = mpl.find_output_cell(\"<div id='\" + id + \"'></div>\");\n    if (!fig.cell_info) {\n        console.error('Failed to find cell for figure', id, fig);\n        return;\n    }\n    fig.cell_info[0].output_area.element.on(\n        'cleared',\n        { fig: fig },\n        fig._remove_fig_handler\n    );\n};\n\nmpl.figure.prototype.handle_close = function (fig, msg) {\n    var width = fig.canvas.width / fig.ratio;\n    fig.cell_info[0].output_area.element.off(\n        'cleared',\n        fig._remove_fig_handler\n    );\n    fig.resizeObserverInstance.unobserve(fig.canvas_div);\n\n    // Update the output cell to use the data from the current canvas.\n    fig.push_to_output();\n    var dataURL = fig.canvas.toDataURL();\n    // Re-enable the keyboard manager in IPython - without this line, in FF,\n    // the notebook keyboard shortcuts fail.\n    IPython.keyboard_manager.enable();\n    fig.parent_element.innerHTML =\n        '<img src=\"' + dataURL + '\" width=\"' + width + '\">';\n    fig.close_ws(fig, msg);\n};\n\nmpl.figure.prototype.close_ws = function (fig, msg) {\n    fig.send_message('closing', msg);\n    // fig.ws.close()\n};\n\nmpl.figure.prototype.push_to_output = function (_remove_interactive) {\n    // Turn the data on the canvas into data in the output cell.\n    var width = this.canvas.width / this.ratio;\n    var dataURL = this.canvas.toDataURL();\n    this.cell_info[1]['text/html'] =\n        '<img src=\"' + dataURL + '\" width=\"' + width + '\">';\n};\n\nmpl.figure.prototype.updated_canvas_event = function () {\n    // Tell IPython that the notebook contents must change.\n    IPython.notebook.set_dirty(true);\n    this.send_message('ack', {});\n    var fig = this;\n    // Wait a second, then push the new image to the DOM so\n    // that it is saved nicely (might be nice to debounce this).\n    setTimeout(function () {\n        fig.push_to_output();\n    }, 1000);\n};\n\nmpl.figure.prototype._init_toolbar = function () {\n    var fig = this;\n\n    var toolbar = document.createElement('div');\n    toolbar.classList = 'btn-toolbar';\n    this.root.appendChild(toolbar);\n\n    function on_click_closure(name) {\n        return function (_event) {\n            return fig.toolbar_button_onclick(name);\n        };\n    }\n\n    function on_mouseover_closure(tooltip) {\n        return function (event) {\n            if (!event.currentTarget.disabled) {\n                return fig.toolbar_button_onmouseover(tooltip);\n            }\n        };\n    }\n\n    fig.buttons = {};\n    var buttonGroup = document.createElement('div');\n    buttonGroup.classList = 'btn-group';\n    var button;\n    for (var toolbar_ind in mpl.toolbar_items) {\n        var name = mpl.toolbar_items[toolbar_ind][0];\n        var tooltip = mpl.toolbar_items[toolbar_ind][1];\n        var image = mpl.toolbar_items[toolbar_ind][2];\n        var method_name = mpl.toolbar_items[toolbar_ind][3];\n\n        if (!name) {\n            /* Instead of a spacer, we start a new button group. */\n            if (buttonGroup.hasChildNodes()) {\n                toolbar.appendChild(buttonGroup);\n            }\n            buttonGroup = document.createElement('div');\n            buttonGroup.classList = 'btn-group';\n            continue;\n        }\n\n        button = fig.buttons[name] = document.createElement('button');\n        button.classList = 'btn btn-default';\n        button.href = '#';\n        button.title = name;\n        button.innerHTML = '<i class=\"fa ' + image + ' fa-lg\"></i>';\n        button.addEventListener('click', on_click_closure(method_name));\n        button.addEventListener('mouseover', on_mouseover_closure(tooltip));\n        buttonGroup.appendChild(button);\n    }\n\n    if (buttonGroup.hasChildNodes()) {\n        toolbar.appendChild(buttonGroup);\n    }\n\n    // Add the status bar.\n    var status_bar = document.createElement('span');\n    status_bar.classList = 'mpl-message pull-right';\n    toolbar.appendChild(status_bar);\n    this.message = status_bar;\n\n    // Add the close button to the window.\n    var buttongrp = document.createElement('div');\n    buttongrp.classList = 'btn-group inline pull-right';\n    button = document.createElement('button');\n    button.classList = 'btn btn-mini btn-primary';\n    button.href = '#';\n    button.title = 'Stop Interaction';\n    button.innerHTML = '<i class=\"fa fa-power-off icon-remove icon-large\"></i>';\n    button.addEventListener('click', function (_evt) {\n        fig.handle_close(fig, {});\n    });\n    button.addEventListener(\n        'mouseover',\n        on_mouseover_closure('Stop Interaction')\n    );\n    buttongrp.appendChild(button);\n    var titlebar = this.root.querySelector('.ui-dialog-titlebar');\n    titlebar.insertBefore(buttongrp, titlebar.firstChild);\n};\n\nmpl.figure.prototype._remove_fig_handler = function (event) {\n    var fig = event.data.fig;\n    if (event.target !== this) {\n        // Ignore bubbled events from children.\n        return;\n    }\n    fig.close_ws(fig, {});\n};\n\nmpl.figure.prototype._root_extra_style = function (el) {\n    el.style.boxSizing = 'content-box'; // override notebook setting of border-box.\n};\n\nmpl.figure.prototype._canvas_extra_style = function (el) {\n    // this is important to make the div 'focusable\n    el.setAttribute('tabindex', 0);\n    // reach out to IPython and tell the keyboard manager to turn it's self\n    // off when our div gets focus\n\n    // location in version 3\n    if (IPython.notebook.keyboard_manager) {\n        IPython.notebook.keyboard_manager.register_events(el);\n    } else {\n        // location in version 2\n        IPython.keyboard_manager.register_events(el);\n    }\n};\n\nmpl.figure.prototype._key_event_extra = function (event, _name) {\n    // Check for shift+enter\n    if (event.shiftKey && event.which === 13) {\n        this.canvas_div.blur();\n        // select the cell after this one\n        var index = IPython.notebook.find_cell_index(this.cell_info[0]);\n        IPython.notebook.select(index + 1);\n    }\n};\n\nmpl.figure.prototype.handle_save = function (fig, _msg) {\n    fig.ondownload(fig, null);\n};\n\nmpl.find_output_cell = function (html_output) {\n    // Return the cell and output element which can be found *uniquely* in the notebook.\n    // Note - this is a bit hacky, but it is done because the \"notebook_saving.Notebook\"\n    // IPython event is triggered only after the cells have been serialised, which for\n    // our purposes (turning an active figure into a static one), is too late.\n    var cells = IPython.notebook.get_cells();\n    var ncells = cells.length;\n    for (var i = 0; i < ncells; i++) {\n        var cell = cells[i];\n        if (cell.cell_type === 'code') {\n            for (var j = 0; j < cell.output_area.outputs.length; j++) {\n                var data = cell.output_area.outputs[j];\n                if (data.data) {\n                    // IPython >= 3 moved mimebundle to data attribute of output\n                    data = data.data;\n                }\n                if (data['text/html'] === html_output) {\n                    return [cell, data, j];\n                }\n            }\n        }\n    }\n};\n\n// Register the function which deals with the matplotlib target/channel.\n// The kernel may be null if the page has been refreshed.\nif (IPython.notebook.kernel !== null) {\n    IPython.notebook.kernel.comm_manager.register_target(\n        'matplotlib',\n        mpl.mpl_figure_comm\n    );\n}\n",
      "text/plain": [
       "<IPython.core.display.Javascript object>"
      ]
     },
     "metadata": {},
     "output_type": "display_data"
    },
    {
     "data": {
      "text/html": [
       "<div id='56450f26-e2ca-462e-810c-9e2ed81f11f0'></div>"
      ],
      "text/plain": [
       "<IPython.core.display.HTML object>"
      ]
     },
     "metadata": {},
     "output_type": "display_data"
    }
   ],
   "source": [
    "\n",
    "def plot_3d_skeleton(keypoints, skeletal_model_structure, ax, color):\n",
    "\n",
    "#     Extract x, y, z coordinates\n",
    "    x, y, z = zip(*keypoints)\n",
    "\n",
    "    # Plot keypoints\n",
    "    ax.scatter(x, y, z, color='blue', label='Keypoints')\n",
    "    ax.view_init(elev=-90, azim=-90)\n",
    "    # Plot skeleton connections\n",
    "    for connection in skeletal_model_structure:\n",
    "        start_idx, end_idx, _ = connection\n",
    "        start_point = keypoints[start_idx]\n",
    "        end_point = keypoints[end_idx]\n",
    "        xs = [start_point[0], end_point[0]]\n",
    "        ys = [start_point[1], end_point[1]]\n",
    "        zs = [start_point[2], end_point[2]]\n",
    "        ax.plot(xs, ys, zs, color=color)\n",
    "\n",
    "    ax.set_xlabel('X Label')\n",
    "    ax.set_ylabel('Y Label')\n",
    "    ax.set_zlabel('Z Label')\n",
    "\n",
    "    plt.show()\n",
    "\n",
    "\n",
    "\n",
    "# Assuming you have keypoints and skeletal_model_structure\n",
    "\n",
    "skeletal_model_structure = getSkeletalModelStructure()  # Use the corrected function\n",
    "\n",
    "fig = plt.figure(figsize=(10, 10))\n",
    "ax = fig.add_subplot(111, projection='3d')\n",
    "\n",
    "\n",
    "# Plot the 3D skeleton\n",
    "plot_3d_skeleton(keypoints_array[20], skeletal_model_structure, ax, color='red')\n",
    "\n",
    "plt.show()\n",
    "\n"
   ]
  },
  {
   "cell_type": "code",
   "execution_count": 21,
   "id": "bf8cb707",
   "metadata": {},
   "outputs": [],
   "source": [
    "data.update(normalized_keypoints_df)"
   ]
  },
  {
   "cell_type": "markdown",
   "id": "5fc5a8e6",
   "metadata": {},
   "source": [
    "## Smoothing"
   ]
  },
  {
   "cell_type": "markdown",
   "id": "2000552d",
   "metadata": {},
   "source": [
    "For more information on smoothing, please refer to the [Smoothing](https://github.com/Multimodal-Language-Department-MPI-NL/Smoothing) notebook.\n",
    "One thing that you will run into when using motion tracking data, especially when using video based motion tracking data, is that you will have noise-related jitter in your time series. At some times such noise maybe minimal, e.g., when using very accurate device-based motion tracking devices. But in other cases, you will see that there are sudden jumps or kinks from time point to time point due to tracking inaccuracies (that can be caused by occlusions, or not ideal lighting, camara position changes, etc.).\n",
    "\n",
    "It is good therefore to apply some smoothing to the position traces of your motion tracking data, as well as any derivatives that are approximated afterwards (e.g., 3D speed, vertical velocity). You can for example apply a low-pass filter, whereby you try to only allow fluctuations that have a slow frequency change (gradual changes from point to point) so as to filter out (i.e., reduce the amplitude of) the jitter that occurs at very high frequencies (because they result in sudden changes from point to point). Note that when using low-pass filters there can be some time shift, so in that case it is good to undo that shift by running the smoothing forwards and backwards (we do this by using filtfilt); this undoing of distortions in time is called a “zero-phase” low-pass filter. Applying zero-phase low-pass filters is important if you care about precise temporal precision relative to some other timeseries for example (e.g., acoustics)."
   ]
  },
  {
   "cell_type": "code",
   "execution_count": 22,
   "id": "75c4c79c",
   "metadata": {},
   "outputs": [],
   "source": [
    "def butter_it(x, sampling_rate, order, lowpass_cutoff):\n",
    "    nyquist = sampling_rate / 2\n",
    "    cutoff = lowpass_cutoff / nyquist  # Normalized frequency\n",
    "    b, a = butter(order, cutoff, btype='low')\n",
    "    filtered_x = filtfilt(b, a, x)\n",
    "    return np.asarray(filtered_x, dtype=np.float64)"
   ]
  },
  {
   "cell_type": "code",
   "execution_count": 23,
   "id": "a885bec7",
   "metadata": {},
   "outputs": [],
   "source": [
    "#apply a butterworth filter to the following position traces\n",
    "\n",
    "data[xyz_columns] = data[xyz_columns].apply(lambda x: butter_it(x=x,sampling_rate=100, order=20, lowpass_cutoff=20))"
   ]
  },
  {
   "cell_type": "markdown",
   "id": "7f541739",
   "metadata": {},
   "source": [
    "## Kinematic Measures\n",
    "<b> Speed </b> : Change in distance per unit time\n",
    "\n",
    "<b>  Velocity </b> : Change in displacement per unit time\n",
    "\n",
    "<b> Acceleration </b> : Change in velocity per unit time\n",
    "\n",
    "<b> Jerk </b> : Change in acceleration per unit time"
   ]
  },
  {
   "cell_type": "code",
   "execution_count": 24,
   "id": "5ce21739",
   "metadata": {},
   "outputs": [
    {
     "name": "stderr",
     "output_type": "stream",
     "text": [
      "/var/folders/jf/tryr8zrx2z7fvqnhwryrvyzc0000gn/T/ipykernel_86610/1304442566.py:24: PerformanceWarning: DataFrame is highly fragmented.  This is usually the result of calling `frame.insert` many times, which has poor performance.  Consider joining all columns at once using pd.concat(axis=1) instead. To get a de-fragmented frame, use `newframe = frame.copy()`\n",
      "  data['speed'] = get_speed_vector(data['X_RIGHT_INDEX'], data['Y_RIGHT_INDEX'], data['Z_RIGHT_INDEX'], data['time'])\n",
      "/var/folders/jf/tryr8zrx2z7fvqnhwryrvyzc0000gn/T/ipykernel_86610/1304442566.py:25: PerformanceWarning: DataFrame is highly fragmented.  This is usually the result of calling `frame.insert` many times, which has poor performance.  Consider joining all columns at once using pd.concat(axis=1) instead. To get a de-fragmented frame, use `newframe = frame.copy()`\n",
      "  data['vertical_velocity'] = derive_it(data['Y_RIGHT_INDEX'])/np.mean(np.diff(data['time']))\n",
      "/var/folders/jf/tryr8zrx2z7fvqnhwryrvyzc0000gn/T/ipykernel_86610/1304442566.py:26: PerformanceWarning: DataFrame is highly fragmented.  This is usually the result of calling `frame.insert` many times, which has poor performance.  Consider joining all columns at once using pd.concat(axis=1) instead. To get a de-fragmented frame, use `newframe = frame.copy()`\n",
      "  data['acceleration'] = derive_it(data['speed'])\n",
      "/var/folders/jf/tryr8zrx2z7fvqnhwryrvyzc0000gn/T/ipykernel_86610/1304442566.py:27: PerformanceWarning: DataFrame is highly fragmented.  This is usually the result of calling `frame.insert` many times, which has poor performance.  Consider joining all columns at once using pd.concat(axis=1) instead. To get a de-fragmented frame, use `newframe = frame.copy()`\n",
      "  data['jerk'] = derive_it(data['acceleration'])\n"
     ]
    },
    {
     "data": {
      "application/vnd.plotly.v1+json": {
       "config": {
        "plotlyServerURL": "https://plot.ly"
       },
       "data": [
        {
         "line": {
          "color": "black"
         },
         "mode": "lines",
         "name": "speed",
         "type": "scatter",
         "x": {
          "bdata": "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",
          "dtype": "f8"
         },
         "y": {
          "bdata": "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",
          "dtype": "f8"
         }
        },
        {
         "line": {
          "color": "red"
         },
         "mode": "lines",
         "name": "vertical velocity",
         "type": "scatter",
         "x": {
          "bdata": "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",
          "dtype": "f8"
         },
         "y": {
          "bdata": "tOeru9ZLfr/ts7qFiXWxv3ib7f/30oO/jMkxLzD/wz+00hHIdd3TP5/cNFi9udU/tfEUVD6UzD8YJYvVCvWsPxKbLgi0wZK/KBdybpurrD/VCucDLEbFP94Z5/D42bk/egEdPXkR0L9Jz1BrS4Hov6MWe/aft/K/99ns3P+R9L8HyMgIk/nyv8FeoVeZc/G/UUmI0Bfz8b/6iLsMOAfzv2Ov+NJa/PG/IdMxAvM77L/0itubVG3iv80Lqqfgr9S/256IcuKXwb/F+VotEFSDP9qDH58HVLM/DqFXU1e0Zz9b2Tn+7QO5v48WaGlJcLY/zp3/Lzy86T8E0jLweCz+P/oCkUe1AQZAzU0cz0iiBkBXre6whVEAQAEWrrwnXOs/24NScGuEtr+/zOSFP8Hbv7fPO5ki982/wXOVTscizj8qxThqFwfmPztmBAcH2uw/Xg+FlTq95z8uJxx9QgvQPzOfEUQTf9O/55a511mS4r8hbbRDO6fcv8WkTupzysC/0D9IKPriab8Cdzs1XUnMv2BwljDr7uK/2lRgOTer6b8f1MkpMaLnvzdJ1fLNCeG/yEFVox1f1L+FeE72XoqivyCpxXwOWt0/Niur+g/k8T8XBEGISPn5P1zvulm/U/o/twsgOHnW8j+lfDJ/ERPiP+A0IClgFMk/ejNCbrWzxj/kaSbShErUPwid+sRscdg/+b/wIQys1D8oJYlJPxbQP4XHgWBrT9A/jwqfU0Ly0j+FIR9SmFPSP0QQNYwosMo/pE4uy6qQwD9P+SOdbqe7P74lCSNSZsA/VFhnmtzgwD+koYLEugq4P6KYI0xtFqU/S3zigwSKhj8kdFHFZAuPPx2c4SaYuKc/cerlAZkpuD9oPEbMf/7BP9ubNTg0vMM/7EoYc6iXvz8F/pKwKBe2PwAev/yN3rc/Hxajz/XPvD9lsUKkOnRyvwpBEmDKT9q/nSRDeIJd8b9pqFNLnGz8v9tg8EfDVQHANcHyWpLfAMC5ecpid2X7v6Xdl9TETPO/45wrnhzi578UJmO4u4zWv2uHELMOPyS/DCCv/H4V0j+qAg5CNpvbP2losMKnINs/3cJ91+mq0z8HNZa89VDDP3hsd5DoI3U/UZ4L8De6tL+ns6ukTT2lvxkAtHRW1MM/XhHAMss02z9gmJfF0sriPzs7XXb4OuA/12Ycugy5zj/TND6sik4/P/ut3fXQaKC/JwVhG4Dmvj9YKlURO3/RP7K4DuGqp9E/Z5yRmQedxD8/bbe7FZe3PxFQZFOBpcY/O46/0+pG1j/5j7HngjvbP/TcYgbwZdI/wrOtJNpwjb/m3gJ0vE7Sv0JSU2lbqdS/S2WEIIHEor8G7rZXFyXfP9wP3YGkKvA/2r0NSj3s8z/gkgmZzyHwP4WXW2q2Zdg/ATzXQoKo0L+atGwvwe/bvxeBBL++p7k/HNJcGIcY8j9rdyP+GIkAQBnKxH7KzgJAayqTjQmx/T9DmR62ckbuP0zfR1plJMU/x3YMKCksxb9cYyq96xa4vwYlGmYvJsA/n9phPZab0j/jQa+vPeTVP5r4Ln9oMNM/j78nPyFyxz9XAmjJK4aXP7+hOgeO8rq/LRnInoWNwL/cKb0vPmqyv+51//KjtKq/lIK5mM5+xL//sxYlk+bVv6TuEkKib9y/y7Yc49MM2L9rbORisB/Kv8r4U2Xa5bG/x4XBMX0unb9V8fWKAlqAv/BF9v6CUbM/RbpNFkRjyT9Kk6tIgkTQP1wA9sONecc/3nudLFs/pj9v9bb5QEKvvy2a7MDdmLe/7pTVhAXXuL/AdVnk7I+/v+1KVtY9XcO/7hYPo600wL9hyu0DzI2kv8FFUNrUGKs/6xNdB+pMuD/WLxmZZky1P5/+dcFfWKs/bG1kq7lBlz+ZLxaW+LaZv4TxByjm47i/gms2B99uxL+lQJVSGGbFvyCtX6VfM76/3Zz+s/U2rb9PQlWM2yqWv7dh0upWwjW/cRt2qyL9oz+O8vWnTZW3PyveZgi+/rw/DMW9Of1Ksz+b216ojLaPPydjDPjECTW/2Vcj/4XYpz+4Y1hkXRS8P1UJCnHPlcI/XDc7mo4Oxj/c/AAW7TnNP9mBTJCyWtA/4rzJniiOsj8sczn4iebev6kca1/hjvW/wUsyytN6AcBy+hidgLkEwEdLCAJUJQPADKq37beV/L/kaXvdYaLyv/gqZbms+em/VWPy7BAJ579Dd1AT6orlv3LJQySXI9+/gNHcB+Apxb8b/jNmQY3BP1AmRrXMQ9I/ecCdFUiO0T/FD22gvFbJP7jRsdRYysE/Mrp52t66uj9Pbk77eiWuP4bNnqRYG3m/w0Yx2IqHrL9RyefqUVWvv0WOEBig4Ke/uXv6kj1bsb8vZw3F+jDCv3BJdaMkP8u/gyz7fD19yb9fJkSRcEG2v2oUsG1oj6M/u0Hm2D1CsD+YYktxk1yjvwXO0tIwW8W/y4R+WsXzxr+TOVV5QZWMv2oWik3TDNA/b1NEelxw3T9RES1KXA3gP13OeN0kQdg/Z+9gmDWbyD9AiFZxCwqxP++Ffz8vj7U/YjJ1kf+azz9t7y1c+yTePxshxg9fAOQ/6ys5TiqX4z+x71dcn/fcP1Z8uLTtYtI//mmy2jug0T81LuDf/aPdP0NXVReY1uc/avFUKjV27j+2A1bcxTHvP62aq0Xt5ek/t8ei8hOK4D+mN8wjfuHHPwGW+TR3Gqy/V7xvzzp3p79Ofx+LbZXUP5jxLnPJDu8/xsZ15JrG+T/bcYhPjEv+P7QJhsFVTvo/pcJaqIaT7z/U0BcY+BvQPyoKE13Go8+/By25IRKK2b+A8E4ODy3Vvw/vhoOpbNK/Dly0ABFV3L9yeB5KREXov++XbSV4PvC/pN7aruoG8L/9FSLAYPPmvyMszMawldi/xTyfuorIzr9Es0BCJkPVv9qHJ6FiiuG/t6vZQFxz67/qDelFReb2vzhjj/S1VwPAkoKoPOS5DMBkht9OsEERwO1m+xJkAxDADNIiOT5yBcB5Gp25SK3wv7BmiGNv5rY/uhNPLLUZ2j9/2LRJ5PvOP9O0YVfpHLY/tpzVthtXsT9RQTdtbi68v4uvdaHB++e/u0BmyDDh+78oa8znpYIEwEMGVJFlJQXA8+JKzTBX/L84TzpdvZnPvzXIiBYma/Q/IcFGpPoBAUC7j9skrpn/PwTNy3r+0/A/n4dzo5gboT8gvU3Rxe/YvwhEow/emnq/L/hortGU6D9tLwWRRRb0P26ljnPaXfE/4QDTSv0Y3j9q4JSYRnKsvzjUv3X02sK/vdOfNw/jtj+FXSLjaUXTP2Oc3GggK9I/D7A1rbiHwj+sTXtcVuq4Px/50kHtlcU/tBNMznwqxT8zpNVEkWyyv2e2VZ/Hk9u/6bi8pXzj4r9BRQ6cmD/Vv7UPTja89cw/QWrrYIwR5z8vxfE0nn3rP6Q/Hhs9pOQ/QskSV/A41D/YtpX5rVq3P2PLY/8Bv2O/0KK8zlfntr8W/CxwNdjRv3pjZG5Lm+G/q/A6AIjJ6L/dVqwMmiLqv5aVs3I9POS/XdnYgcjH07/HP99ybUicvy3lMswUhas/KKtDx4Aes79EqILTyIHQv8eDWEMle9S/j8/AMJwPz7+wWyZuxHjGv6vLt9bp/c6/LrdhCxfz1r/qOZpIekvTv+xlAZHLA6E/D/vlFPjK3z9fWi/A1NDrP+fNc/gcVvI/bczjVc/P+D/wNlLlV8QBQOu557q2mwdAcbvOOsLUCkArnczugkgKQAjrYcLKEQhAyBQE+KTSBkCRghYE8xUGQNVmTXR3fwJANQsuwycx9D/Mbrw6sqydv2RmRDmHguq/5jSX1ASg57/5VxHk0cm5v4gSWxvJstY/NHPRwng6zj99h1vXTGnJv+VdpDjFudu/9CdxI4l/0r8IrKnX4YStv4ko1Npy07e/B6Tr8Jch2b/D7D/k4W3kv2lvhWVUx+K/3FQoQ0h/1L9iewj0M/m5v3MnzPcJbq+/18nI4R4qub8Mp9E0qx2uv8pLs9YOU64/pAalGBplvD9Lrxwv7qKlvxHA4Ufk0tu/SDXlutFX8L+X67vYPlb7vwNNADsvgALA3xBE7tVjBMC9ldI733IBwDc1YTtFMvS/ngpY/Duoyr8x2Qc/p/bbP1u3nE2i89c/yFr4XvKI0b9ZTp7XhQHyvy2KhyqYd/2/kfktgv86AsAN5QRlS0UDwEUPmrwSoQHAOfeXiVWT+r9Sv6d/I1jtv8MgdKe73M6/PNy+Sc8AxD9RRpepcGTUP2TWMv5EROA/PYDvb54j7j/FEOiE2dj4PxbtsOdoOwBAcON08ru4AEDP06NF3c/7P7uUFP9M4PM/UfpdUZeo7D8z+3gWRTfpP5xJSe8HWuk/irJaS4KS5z8fg3YqIjriPwtdx28Lftc/hUIhHdSJyz+giQI95Sq+P6ic2oUg15g/1cvWePFEtL9VCTD4VmTBv9LBQpo5wba/znE6Opcboj/tgppAfRbCPwesP+DI2cU/AAblLcaHxj/ZUfAreeHQPyIoT3yGsN0/WVMHEeGi5T/j2gDk5zjoPwrOvG9XeuQ/1KE4DpHK1T8OrmCoSnPDv14n/hW1v+2/6mHLHoFqAMCXf8ZzR+kKwGMOIOt56RHAd+90oDkDFMAfrR3yPEsTwCTPgj/hmxDA8O/aMZWECsD3d083mP8DwH7Ncexlnvu/RVc6W9bi77+iz0UGlinZv0ChU9RV3ZI/Uwwu8L271D9iG8Y5PQvmP+At6BsgvPE/Xi62BULD9D/hhI06mEHuP/mD4fvEH74/ZzmkXqmE5b9jz3W10/bsv/uvGqJ05OK/yWKMc/9X0r8iCn+EWU7gvykWpmSNVfK/XjPmzgnM+L9w8qqUJUv0v478qzj2LuO/dIta05wi1L9oUUFKRmnpv3EynhUNVPi/mDpfnR59+L8YQxKidO3YvzkkDCSOQ/U/NTxLBvNpBEAY0xUBaEMFQOPaSmG2rv4/y2KqIAUz8T9y8qPDtP3jP31huDOW8uA/2UA7oF+n4D+DOufHcgPgPwArRVf3MuM/Hz8MfRDj7T8rg4OMjNr2P0t6gxa4Wv4/eRHtlnuuAUBtQJAkEsICQA81veZ7rwJAro+oYgwSAkD27bZK5/wBQA3Gl7UCXgNAEjdNplKYBUBXDk8GiA0GQKErVv/M8gFAKjwSwss78j8j6Ykn+P/Dv5dACAkWRfK/dpAIbHUX+r8mtQV9BE/9v/PYNd9DLADAkwjMCASQAcCSznqSArYAwCW2bJU8Yfi/+oicc3A95b/CjGE9LJi5P6vPH3NpU98/MzEMaJE24T/dTBIfWujeP2DyvmsR9OA/y6ZaXJZ85z/Zjm9D/rPwP3dSyo602fU/F1gT3GwH+T9fcEUzipb3P697ivjY2+8/i6uTSPI0yz+5Dx3uHozjvxHNHpm8APO/+zoWfp8O9r+qmM1kIavzv+jjwN4KPOy/QSdk0gYJ378X+A/5lbTEv2oHI2s4mm6/wnMlyohkkr8VUryo27y2v7uF8c8fE6a/iHa3bcBGyT+Wb7P/ydPgPxf3gPHnkuc/7lPYvmIA5z94RID/vLvhPwCOhrA6ydo/iw21RRA12T8RKtlfZFLZPyPrZp9bYdI/4VCX/KGLqT8fjSoYymnGv9dY9R470su/8nv+sOLqp79+MgvbEH/HP+hPyp7LlNA/ViFQ2zc/tD9fKeJk9R/Rvz0PqdeWpeK/FNMGpWH85r8oFCCWorjlv9e98US0zuK/Ryl8j2f54b8eao8abobjv1c2xI3yrOS/Ex563m+p4r+NxlTYNNXav+eDF/k6zc2/pDxn36xCvL89AkB/6SW1v+cTGehb4b6/Jrt2fWqnxr9qCgkg8XDMvwb2iAMXDtC/q0yFikMg0b/SOYrKGHfRv6N4ICDldtC/ni2jI0clyr81O2sEYWW6v8xk8jldKqI/7j2jGeeTxj+Xqu5SBvDRP/ErPnC3OdU/gXEqkcgl1j/Gpe2e2kjWP/YXLymRItY/z/OUyFf91D8nvy2B7ijSPy6ETmDfrcs/fuCznRmRwT88OATUnKSuP4Eiyxa/IXE/a4bW/iOuZj/Fph5jJ++0P6MgSo0R6sw/0Fz6H0+Z1z/MgZI2fL7bP/Rae5haGdk/jb9coK0y0j8vdAZ2qcbGP369zazpob0/re7eTrmzuT/XkPThUm2+P4fOYSu1A8U/rQZJo5wvzT+Msy2K9zXSPzSKJolkGNM/cxZI2+U30D8kCDvKop7FP7+xzjSRhrU/Yax9NJ2knz93oPM0J4CVPz2oJHhRzKc/2mTfjJMNtD9RTEHDwvKwP1fR13f/86K/vynlFsP3zL/rMDHesL7av3y5146fh9+/qqsX4AUL2b8CJfKNDojGv4ni6D8bpYI/gNU3/ZRLqj9Z+x/dmieov3WWOEM4Tci/7XF5Wxzj0b9rwQ6/A3bSv4xsN7kCcs+/Nk9UdRaXxr8RrD6x5l6zv3WsYd0OR64/hq+akJD3xz8VbNCdwhXPP7DDT1pPzMk/zf7jVDL6vT/p9nF09USzP6jvbkm2mLs/YBgHOKLYxD/QKLD9IXbFP30oGiK4Wrw/EquKyQOAqD/Ui39/TuudP0SEIerGKKY/qH/DL5popz/OtKLV/6SbP5Gz70Q9CJQ/pmDwRJ3eoT8lrsPT8kifP8yW1XZYDJq//4EE6c7usr+tKXG+oBFzv7/vk77WQck//AyOR2nh2D+CKxe+VN/aP5d4+8QkidY/X9vC0qvD3D93O5pZvV7sPwZQup3H+fc/LDlnXBbJ/j+RFu+n+mMAQF5cgmbG0AFAOtmym1Z5B0AipmBqxaEQQLoCNGRI3xRAM8LRXuw4FUDx9PrJT+cQQN6PlzXMiQRALxw8g4MZ8j/D6yI0/KPQPyIHh+KJCc+/kV648yM55L8BB7wCjzPrv1SgaIHVhua/lpRKm5Vv078DYLLtjqDAvydb1zAPyeK/MMyAuvjn+L/rrgWki9QDwPV6/f1P5gbAT8BkeQ84BcCXXRfJCesAwMzw0pAA3ve/MgHGNaO+679+5FAEJvLTvyhNe1bWj4M/n5PXS4hTlr9ip42m2T3Sv9xQMtpH/t6/bHwVxWRB3L+KLRZ+qx7Rv4fzPfat/si/C9gY3mYX0r+hm+lA04nWv+QJXwMlic2/yyrUs6GVkz8Ae78V+bPEP6h3f3slUa0/eZFYPAYTyL9LeVVZOWPWv3MaO9dVSNS/83B7WCEVxb/KKAsdy86dv8i0fhcK2aA/xcgnntCApz+3WBuOGtWdP06jjYv0WqS/iPR6hhH6xb+9sWC1lxjUvwxxaP7ZP9i/VdOEDSiX1L9PM0pLbh7HvyjDLWydpqW/0zDAAeRTmD90s2UbV456Px0Di+dC3Ki/72Pnqlqqsr9TWMSS40GWv+vC546g0Lc/VN9FTcT1yj/ljuaw1ETRP8wIVgXtQNA/MnGzhHY0yD/lbcFtF0q7P6jkg2Zq8ZY/U4603CoJqL/72jOnFsCyvzwuAHlzWai/5t+ghMBkkL9RM/q+RQmpv00usIWg68K/7BpgaHzcyL8Qe3OXrmSWv3F9uAMSNdw/XUjrUCGE8T/NEbe8Uob7P6cexexFkQBAd6K/HEnG/j967iXHF8fxP5S2gdKpA9i/zdgsIbUUAsB8e0rJKQwQwBjxH8GZfhTA/U1vSmXSFcDFXl13+ioVwF8/gKyQABTAB+c1pPlqEsCWOm8vX+INwFs/NBBuowDAK2gsTQVeuT8X2VM+Qbn+P7yGM7L1sANA+V6ul8+v9z9ecuRQ4V/Xv7DySD4KEgDA2xRpCuzuBcCBWXPJDrUEwGv0wLbMFgDA5ttFEKbT9L/F5sGpdtzSv/1uGl1gFfU/SvA8KU5dC0BcFf0p6ikVQOxvvVLiQBhAqPqd7ofQFUAy/EdvezUQQMkyjwCWCAdAeh+0miG2BEDsSmClCkoIQBWiNKIrZgxApMS+u8WyDEBpl3tOTQoJQENc7+qCKARAOcscjt8hAEDiORGlF135P/f6DhfUVfE/kPqGk2Oa4T9OBK6DB1HLPyhEIs2ctco/eO/HbWov1z84C8/NmgvVP35cp9/8+am/IxCMSbpF4r8xByxpeLzrvyyCUHPywOi/W6d5yJI13b/3iEeTDJzJv04PANrZ28C/tND3Yaboxr8kmsc0eiXQvz0/YznDbdi/oP3s5/iC5L/sp/FsXKzvvyRny21nRfS/VDH+1TK19b8vMlPaYQb1vzP/YhLXhvS/vLPGZ2fx9L/7yNwUBZL0vxVu3bIavvG/MXQxA5gv67/MgxzH5P7mv6iFtLPVzeq/vY3z+7368L+MVmiB9v/wvw+LKUlSBOS/3RjDM/0RwD/vZGlpIwvpP3GRe4ikve4/7wLyz30t4z8byjtkLXpzP+UiCvqOvNm/qBpadU+b2r9l5xBjm/fFv4I6+0KGg54/H87x6+anlz+iiClRmOi2v0E93bvI0ra/Pe2Kfmr5uT97Hzs9coXVP8MwoSuf6to/5Mu0X3As1T/dtyjtfL3LPzb788LHHMc/1+U21Rdbuj+T3vu0TFnQv7U19J3g7+6/Z5yMCvum/L9WppNmweMCwMHHc7R/LQTAIwKmOgKWA8AcgECq50YDwAQPZxjwhgPAxEd4/7RMAsBA6ugTeD/7v3UPi0lG1ui/6qRnry5rtD8egQymYLbeP66ls+pkfdk/Pg7GRvykwT9VcjVTdjR5vwMZEZHM1oy/oqlqwlJVsb8fSondxkzQv9S9kty9FNq/AmsAdVwv0L8HlCkuVVPUP4OpMzx/k/I/3HM62/VLAECWqjIXjSsGQKlxAxty2wlAxfyhU1bOCUAlNHZzNnkEQIdmo54x1vQ/xEnXWXpXrL8d9/Zfa+7qv3HfTQDixea/Q10y2EUXpz+Oj2GuAIbnP2RDkt8UyOo/8Gs7rrTZ2D/jgMgXEs3CvwOv2JCRBNa/nACHgfYfw7+xtpjANxnHP3YHRz8xONg/tyFVZ01F2D9kVAvvo8XSPzCkGWUL8c8/XXgxJ2tJ0j9QAf6F2XzWP2lMWg8jtdc/p9iyicM30z8f66N5+L7EP6bCTZ6qgKA/tLdqaWyAiL/hcg42xzmjP3sIo09zKbo/hHcOK81Ntj/S3Aj/U9+Vv1bxpkSLn8G/kvyyKGA2xb9Fpb7izTu5v0n42WJstJC/oZDcbEESiD+ZNzWPpIk5PyXo+wV5tYY/ZeK8i3tqrj97WunjIlK3P2x1g8Ojqq0/LrUXqxRXhr8sKBnxWhemv5SsOB6lf5W/TkXE2kRHer83utSu5Q6pv/b9U8wWILm/cl8r/fvJrb89QVcTSQiuP9/wUtDeibM/SKgcZqAXyb/EiBUmxSXov8KQTsluBPa/NChNN20t/b/s18xBvnAAwJesMDNhjwHA5mU7hCeDAsCUOhWeD10CwAoxoGqbaf+/KnBev4Mq9b+UOEk2w+HjvxOaYa7Z3sK/m8Bs0QsXej9TlGKo3Lecv5tbEN0gXrC/HW+z7HE8c7+GuoPO8njFPwlM7SiHit0/nuN6V9hH6z9I3LjPjU7zPyn4A0XUGPU/hg7agmyY8T/BYvmRZ+rmP4ozN4IuNN4/Ksr9Xqqr4D9LZcONeePmP63SPNhgn+g/xVImFN/+4T+nNF9CoSLPP5RSpPSeKqY/qOcmErFloD/PGREXbIW4P5dQ6do5JMA/noDAUndExD+tW4wVK6TSP7RCCkc0UuA/00zsrf/o5D/eBC8xSW7iP2763qc2ydM/5CWwfALdoD8NO704+Jm5v4PrTRD8KbW/iuaVgaYufb/9hUg2DcipP41xmQ7gv7A/sSeTv9MBkz9t7YEVcMu+vzusIan36tS/RfPHOZWU3r8KIkksXc7bv37w/kmuKcm/PMq33ioxrD+5hlk6+1a8P1svVzxdb7C/+G+FHuPI0r9Z8dhJd43Xv+wdu7uRcM+/9Jvx7KlwsL8thxz+OJicPw/EZH3DZpY/sFDzMn4blD8ndlSEbB22P2MCL1AA0sU/CzKugtC+xj8l4aQZ4064P+8x00vXpoA/KFRe4majXb9GyrqDfi6oP3J0WgRoJbE/h8AOK7B7hD+W5j1vam2yv/yh1SNKw7a/gFjtVW34kL9M7sG3WJOzP5Kgi7VAj7o/zTgoGvV1qD8AXX9SmoOhvyhYl6dIOrS/pCFZ9Q6Js7+syq9RiViuv+C5hD8+0Ku/+FnjJbSdrL+ByJclEbGov6jBFziJLqK/2UPhzoTMo79+fn7oGDuxvzcH06Zwi7u/yMvpiAcXwr9zUrkgSUXFvyoxOaPKtMe/o/G3Xqfixr8rEY1GBpK6vxRLrAfYQ7A/4wKarhwM0j9gaDD92gjdP/3bhrPLYN8/PtdpQ2RG2D+FPIsKojzIP8lZj2YN9Y4/SNWknYhdtb9wvLWtdXi5vx6cbOXE9q2/uBzWE+YzdT+DDVPynGWsP0Ww16X4Wq0/EzJb9ddAfr/hDVrB9+W+v1pc4YyQbs2/ZGshSZm+0b/LmR2+kyDOvwHmUhL9Yr+/8cQLNaQzgj+SUWrIC1e5P9j/elasU7s/C8PSPx3VoD/6A5zlbHSyv+KQYXMJeMC/YD/Zdi8FtL/jMoNo/NixPzb5UO1qI84/PzMzvtO01D9MnB/XKavSP3WJLlTKi8Y/bQcnE7GOqz/cVa+3vk+Uvxte0q4Aa6W//YoemtSRpb9VHu6uM5Gmv6doSLamvae/bt7RrzLzor/1JQa1dAmPv/AvTGRihnc/+B0+ilnliz/BRb5vn8uFP31qetscdH0/RBd5Oy8qdT+ck6ljslB/v2xfC/X9Aqa/ZrkX38vGt79T+Og2sIzAv1kIqtFLQsC/ojnuF5hOtr/S7v9duKCivwbR1ufLbm6/OgNS/sVGPj9LhaOLV+KQv4TCXRrTsqW/KZB3Dlp/sL89xFHDFY2wv40cP5prdZu/DFqNsQkqpD8DijNK7nS2P6qEapDZdbE/ghlf7RRgk79EZz05cZK8v+gQ05s3dMK/iPZKOdHtvb+Q9SMu0ce3v3UfsvIJpb6/XNBe7Brfxb/MnkhTRWjHvx4CVW43/cG/nVlnEcpKuL+IhwvlV961v1YyrXOdP7O/WNLLi+uHXT+UQmkHYCnCP5289nzWqdE/PXN1+Bty2T/fBA0VByLkP6GSWRdWF/E/Ad69kf69+D+fniMX2i76P7Gsw6jDZ/A/BGgUrfqZtb/7NvBu4nDwvxbEZg8OxfO/0u3V0gfO6L+h/+YixrTSv+dIxjGK4Ni/LQuKZCP48L+BmLe6eyH8v8pNHrcXSf+/RZyps3G8+b/w+Z9iuUDxv7RQu8YKg+a/667RYMX/4L8KofBx9hrbv3+h937MNNO/8S/RsUlJyb8XJbYfVfjBv94deM4PprC/mrzgV+7PtT9pUuGGYa3PP0EizgFysdI/OtsX+M+axz9t9u1gqUejP9c/sRq/q5a/rxmAvtFle7/JMFWCiKqjv+ZW8PObsse/zewGmJ3E17/BI5lBYi3ev+4HIW+Jxdy/D17MZpfg1r/NCuUI80bKv4dQG16YV7k/L4ZlJoDf4z/6cHq+G3bzPwTpXsxnlfg/EkJaaqme9D+RZ4HWzengP6TOdpnm0tO/aAiBx7fI5r9kFll+X2Pev7uxY+2wc8I/MYGf9YKD5D/fMxYP+gblP1SNrFCj+ss/rRQMKiVX1r93BO8j79fmv+zW9AgTTei/by+1Gldf4r8FFgJL+KTSvzWRAZQ4BpU/Kr3p3D861T8vZdoTDKbiP5ObzRXpKuY/zer6YjI95D/+pUGfYJrdP0BWeljH/9I/EIPTf1h80D+UiKww4OHdPyoSTqm+QfA/6dxPRLGp/T814YLdm4AFQN2iEjUDlAhAi+9w/hOXBUDw2BTgGDT6P1xARA6OjdE/gXmVMLcu8L/LIgK3qKwAwFK/TcSN2QfALElNdSpUDcDNchRB6pIPwG6FfVkmQg3AypVih93rBsAbjK3WxHT9vx4Dd6klAOu/B6C91Q8eez/Za9Jjs9PkP1r7T0QTk+8/DF3RDyIs7j9Bwro1+7PkP0/jQLtyqto/ezKvEpPf3z8DPHqzoCjqP25yE8GpwfA/uHFxuM347T+L+in01Z7hP+x4haY5EMY/9I2z/Abcgz+7IOBVhxKlP121S1ES9b8/eYCx4YsKxz9HF3d2nP/LP4Tsf5zDbM8/XSts5PXhyj9FxAWT+PC1P7vB3hcx4Ky/XKq5f9+eu781FrDko8Kpvw08IhAhKZk/gvSWiTVHoj8VJxRobDKLP8YYg89mK6U/XmQy1vzbvz+N02ui41XGP8rn6KcaZsM/QyT4t7OgxD8pMWNp4mXVP5mOJTEjKeM/Y9dHutxi5D/Axkr3MJ/DP7i5Choac+m/izenUZ44/L+9C1B2lgkCwBKiD72p2gDARm1FnJki+b8FEHVPs5Hwv9mWrzv2lua/pcWvBIEV4b8qghY3rxrZvymizrF5HNC/CtlpUNX4xr9ZOBY1P2TLv//c4litwNK/Qx8GIPn9079yKVHjF6XNv6xBWbPBx7q/vEoHVKahkb9BFm0c/OOHvzBqgg4R8rG/qf8mtctKw7+B7v54fbXMv60+9XKvBdK/97zXB5zI1L+29EtdqTPXv+bb/zkkGdq/jMBBRTKs3b8ebN4yfxvgvxB+W4IcBN6/CZMi8VaI07+iQsCS2MuDv0l2l98W+dU/kSctlQZX5D/w0xwTs9ToP4ogcx0iI+g/zqtWtghW5D9hThreyAbgP3kJPZ8d99g/gJ5nft+70j8eT9FflsjHPz5PZcbuQLM/HIdl6tDeZT8cZCtHzOKWP5OWfqYgXcY//TrEKVUq3j+QZFtOxivsP6DJnRKz8vQ/kp//rPLF+T/pZQZxT0D6P2z+Q85ZlPU/0YHWlAmy6j9nox9V5ILTP24xnP/2Cae/ZRCLL6vCwr9ByXvm+mWzv4SBDnc75pk/krpXV+/Tqj9lzrhdMcuDv6w3Z7Gl9bu/yhAq5m2ix78/Rjc+Q0fKv3VKkRr3Zca/nLMUTtGVvL/yV5lLIryevzLO0wngwa0/Pix3kEcNwT8Ul8TvSY3FP2dtLSLGNcM/4Z4Ktsx1uT80C23mGISuP30ZjEQ1xKY/4jkw6vlfYL8YeBkzn3DGvz50p+MhZOC/5I3UBhNF7b+FNJD+nAvzv24UP2lmJPO/++/Eivmc7r+ubdzOmzTkv1C8DdAwV9e/8xoe+7Epxb/ukBpmOOmrPyJdYWaGJ9U/5gG8QXfY4T/E2FfXxS/iPxGI8+jSL9M/fZ25dRY5wL/j4gTKFuXfvzPWcTAhoOW/pjXk2fRi5b+LE5chKyviv/5D5pfCXNy/zWa4gesY1L9s3zUClWHJv9B2PbDBJ8G/mmrS3rTFv79XVTm6brO0vx1pNH3hZr8/FPl+Up1e4D8UrxFsb7DtPzOgs/TaA/I/i1PHQ/lU7z9EXhEF3BjjP022mes2zM0/PECAEwN1sj+IlI02TMa5P6KhKc8gXcU/bUHtgHvqwj+rMaZKz2WpP6iiaJFZFaG/AdRtZPEAn7+HKG29mDWmPxdU/KoNaL0/iZJImUUpwD/y6bMJ4SG0P2WyKR86IJU/CkyTOB+UVT/UaY2vAd+bP3Vz2rsYZ6w/36E1l5xdnj/J9L1Wng+yv0OBvvkdAcu/LqJm9V5I1b/24QxtayrZv1FPfWry9de/p0WtnwRt0L/npeyHK62Wv0RBmHONjdI/sGY4C4pI4T8AQZCfXrrhP6CO4L/WHdI/xKxVbkpmt79NV8yH4JDQv8rzU+sZgaO/MAJEV2Mq3D/qBEj6QFLqP20gYgP/seo/BRU9RpJo4D9RWbCfIBfEP96KAPLDLag/owjjgVvbyj/GTQlnO9zbP7hc7rDpIeA/jbOWfGyw2D+btfazPfPNP9UV1WCYTcs/rsQSe3LG1T8uI4Z8dtPePwQZwwFkad8/lgxSkQbu1T+zSN8oDA3DP/NtiOQtu6k/DhlgDF9ctz/mIFJa3CDIPxiPRDyFBMw/md1l838Nwj+CdQCNhaCgP59t3z9w5XI/RDFYmOvXtD/3V2+71cfFP5o6t8J+bsQ/D9/Dr+RlpT+G6gs/mlC0v+AA7vYZVLu/TX652haCsL82fijho7Syv1qITKbNccq/uMysj0sW2b8WNRJiGRTev17j6gwd5da/8yjzzg6cwb+DVewFHY+XPxhNRYj3bqA/BxDRFyXxqr9KlX2P9eC5v+kV5Mxz/aa/rR21UrCFsT9G9TnBTZ3BPwJBsy/yMLs/39uatiDtaz8vKbcmdjW4v8NGk3Fh18C/dKbkqAm0u79laCf1Cfywv8D2QYK71KW/9NIBxtnsob9RsBGJ/LqPv8LLP0yFH5Y/nR63EvydoT9Y6INuc7iVvygnFkrZI7y/V4fQ/LShur8sMXXs9825P/qVmmWrbNs/A5qjK/E+4z9bD8L02jPVP91aHzoF2Nq/qDNzIYmf9b9ZDvSFHygAwGQAcViyJAHA0VRZj55K/L+JBYjVK77yvxZ2knSk8eO/jPgHnm/szb/yK4zVIK2fP9x3IgeFe84/Yt8f2OUY2j8bcMZp4TzgPxDKVGLPRd8/kR+GXFvH1D/YDytgZtCkP/w1AYoPftG/1O39vDx237+UsFu+Hebgv9MuKGTDx9m/75M4RMA/zb9gOkMmGGG9v6Axe1WXqbO/dEDixMmTpL9i+kDcuJiwP5QimpKPJ8w/ewL2wMJC1T+gm8mMra/UP37IpvI/Tsk/JnhFrHgPnT9U1S7a9Ou7v7hCY34ukMa/3GfGWjfTxL+rSs+KO4mxv5vOKArHMLU/fCXmvOkfzT/id1Lvx8vSP0xFNo0zetE/D3SgvfMg0D8+6ChkdXzVP9SmXEzPquA/f0itaFQD5T+3Lar/nT3iP8gseZfDPtA/GVCIS/sUtL/pgaccKTTEvwHbUtbOUbg/ork3GaAO3z8WqgSCqMjmP/l6F/z+EeQ/+iKjSbGM1T+q2ogNgO6wP/jO9qDUuqa/93iKkAdxhL+5OagJVYm2P/4OABwLXsk/+zT6pSGd0j/BL1T4MvHTP7p1ek12Lcw/j6LIuNVBtz/MRtFJPKC7P0ot+4bGeNg/r3MDtaSb6D+BwgXDs+TtPxZNvsLPa+U/PdWX1OgXwT9Cgxv8g+bQv8NTTD9MXM+/DBeDYC/7tT9H1rWAap3XP8HzBB1jZ9U/URX404kkXr+Znf1ebn3bvxavZ5NPnOe/HQ2sepWm6b/E2wPgVJPiv5F6m2dDIMS/0/vRTyirzD8zAwUooD/SP8Kg/uviapC/B5RbDpt52L/EsseB/xPdvzXwAAcaH8u/eFt62r53XL9jvmrDxtW3vzRTn9CGINO/wZIcQ8iwyr9SdNhErRLGP60hszk9+8k/XrwJRSoQ6L9jH/UVGnMDwHIC7iOF2QzAqv680YK6CMA8Wyg2KgTsv0r988xWofw/QHQVjySMC0Acof5ftkwMQDjMjRmgswRA0G9P39vW9j/UiY9oH5TePw8pRN4hBNO/Jrz4FuYX77+q3B95DKr2v65afTMPcfe/cnjdzSR78r9ceSA9ak7mv19YfrQzRdC/uzZbQrYWwz/H5HiXlxfgP16W8ZfZbOY/5fABSPIv5D/if1H5hQ3WP17O0XbeFK0/Swt98wBUqb/hpqdqkrGSP68jlUvGpb4/DGmDmK1fxD+QAHzoKbTDP5WZzkRAcsE/cLl6PdJmrT9mzLTEnM3Dvzz4Q4mnIt2/vK2nSJgT5b80pxNu8fbiv/JAce99F9G/2UCYpYQPwT8J96enMwfbP3DoBDb87uE/jbLtOi8e5D8CE/MzpgHmP7weObn/VeY/jPqThi+94j8Zuo8rGPzWP2LCqqs6BcE/+hRf/CeanT/G2IkdajexP5hzElk5f8Q/XgIaf1+/yT+fff0gfjPDP9oDs8TLv6I/DTI2f0Dzt78aSliG80rMv19Bj/MjRta/qxn8nweL3r9p57gmSHbjv/7/dOBmwue/3lFBCcPL678ptlrAiNftv7Lpxz2Q5+q/QXlurr7C4L/u/lR10puSv7FrZoZfd+A/8/hZ1kzM6z8YRMzgFG3tP1QuqU8lT+Y/FwtvBjPc1j8Up98Cily1P6/DSGsGU3m/FkSzUgqyuD/BBWz1ihrTPx6e5pURAd0/A0mHeTvL2z9jb8gm7EDLPx0DgjiXkby/du+9cXGK17/YkB8Itp/bv1Ms/jcPV9S/i805CCWHxL80P7O7lsm3v3BU/rJXj8G/C1YTi2rByb86PxNCzgzHv8Jb7QPf0aq/xKcZeWtnvj/oCj7CNb/QPwpQ1ci/kNY/Jfaesn1x2T/0TMPqz7nYPwe32KWA/tI/LZD0LuX3wj+rGIYbdJqTP5MFgPzsnpW/PNbnOBZNYD88L/x3sOCQv7s7mosZrsG/QRYFDZ+J0r+5IxRdwxfVv7wmQ4cko8u/oDfcrSqYs7/wdvUR4+mzv1wrldq0GM2/8+bKIIMZ1r+KOZ6tc1fQv+XCcmGoBI0/LC4TnkYA0D+CjYZ3c5rRPzi/5o2bbb4/3yIgN53upr92sNIlima5v9tWYLQ8M7W/Hx1cSXiSt7+H6poHUhXCvwKmh1uIbMS/3hzU8nQvu79/Q73clR+fv2Z0XF3ten0/wAmiXNwRoj8yg2sH0XPCP9cHEsX7h9Y/qfNkeO4P4T/7EyxgzvrfP61bjKRgWsI/r0RscZQr4L/B5jjl8QD1v6oHlJwzmADAEUd01awlBMC6YFst/wUDwKbRJXNcR/m/c25sDQDo2b9kibxzul7jP+Zbg4kv8O8/aVQYrEqt5z+miO0jJrLLP7561b52Ybm/EQd3IuKEdb8GUwmvzmXVP6B4WdF4qeI/DLdQfaX43z+NLOW7eIm0P1HZGWbW492/U2brBBG8678tHAFboX3uv5UaMDm93ei/Qc+JXOt54b+oPZeKt+jZvyf1IF/N1NC/I2kU83MQvj/qHb2Pax7qP31135BV5Pg/DuVWgb0K/j+V2VY7s+v4P9RT5hSPP+o/TwCVbDcuvD8jIiXF9gDVv8fOXbS+1+K/IEyvZEXZ6r9+HEEx6CzwvzcBfW7wUOu/q4Aj/H4Z0r/RWGQir5vaPw02VRjBv+k/3RiXm4Vr5j8nlWvDtTDUP43T3Li6AGg//aINX03qsr/zXDp3jt54v+NDNPkjpKo/+Xld4tjspj97LTumUUeBvxwGaZSq77i/ql7Z5S1oyr8wx0lBo0fQv+Mn5A2TNcO/008e6FQAsT+G/xqmC6/KP53MxSmyeMI/ZDWszOo3jb/qxzUmC8WOvzinpC9ulss/+esxejgc3D+IdaYfIKzYP/x1k5GMZcI/yjQuuKXRwz9dNbPRHxLnP3Lzx7Y26Pg/duZWJUMB/z97Ulr4gOL1PxiDbA5r+Lc/kia/HIb68L/uVG7h7wP2v8W/wSXOuOi/wRTRaMSGzD+ZFlgtVVbuP5FY7pSmxPA/L7reT5SQ4z8Uj/QXzq+ePyJ879iGR9G/7lJgZxdbur/GAYSd5UPVP6LFJrrM2eI/KCIvRznC1j/9kXfXuHnOvw13FqFuNOe/ROsW5ew36L/RJ/nhqMHbv+k0PTzgnMK/E0h0KiJVvL/AUTZgD/PEv5QxfLEu8py/V2IoR9Ep0j/2yssc5LDdPwYjn3FtONM/QAQcMAX7nL/Fh1Ni+NXBv4FhlukVPbw/R3/zlu++3T+cru2gqGLiPwetC+qNZtg/wSMGjY/owD/FNXS07kmsP/kdUUIDOr8/eQt/thSwwz/ff1sgAWKzP6cv5QAWYZy/uO6X6RFXtb8F7+3cshLDvwDRNLFXktO/tGax8Atq37/3MZrimwDhv4RMWzjrCde/ztpMDyzdv7/VemkgpJaXvx0wiMhsDa6/JkCzGAXKn7+766NwpsvJP6pui0bbM+A/ICIvBJcH4z+T7JlnlXXXP70edMA6IbQ/MMIJXQU/uT/suvACQzPeP3holcG/yOg/5dT8f5Lg3T9gDPPBvtfhv2U+KKavYfy/+tXiZPlXA8BXoLP/pBYBwIjOIG4Qj/S/GCI5+XYD479MGxZOcGDgv2NEAkuybOu/JVctN8hv8b/YEIpIT27sv0MGmF4AQNy/dXq24Xn/x7/0DgQjYtjUv7ztLguZEuS/VtIRGqD75r8xeCSn9wXfv0JXGW4o68O/3/2hKtmgh79gvu0DQw21v7Qpq+mdpMS/yVeZj6v+sr9O3V2wc7vBP/Nk4bQrPdQ/O4/cXyMe2T8LOD0lI9jcP6RsnByPS+I/C6yquOMk5j+4mQ/5/UzlP/iafXx3+9w/JDze1PSryD/cbOA7GzSwPylVRIMQibg/ArUkeFxDxT/HM7mzzubEP6eSUw4iQ78//ZcjCxMMxD8zTf0/sFPSPzMhJoHIgNg/Lq50al421D8f9jwdfGnAP26HTxMjfJc/vJR8anpSxD+g1y/vZnLeP5cocGYUqOc/bE/N8iga6D+bYNufBaXgPxpw3yzVW8o/niN9CIWDlr+FlElC8Ke7v9a8jArv8re/j6aWQJ5DpL/Hj/ORCoiOPw34EMKsyaY/Lif+UUtJnj8eeoL7ZIiav0sclNXoBrW/5XLMMnpatr/7+P+8x7OSv6tb+9ITs7o/ZyFxxpf/zT9fVMtbMt7UP+xa/SVBNNY/b1hzHCdq0j8qg1cW6T7GP7BgOr8uEa4/HhK6A87mib9ixV3Tguykv+hLStmTcK+/iHjsnMawt7/8rlgdq167v9FLoxJs7LG/OhaenTAbTD9hSAg+qFKlPy12OsBiTpA/K0tMekvJor/uKUSlv3Oqv+tS+Gksi5+/i6CETmNVp78e4v2kDtTAv9yLuY0h/sq/pxlL89zOxb8be9ssSVSVv33STYKO5LE/Wz/3yBIvp78eBkCN+IfSv76htR78Htm/ItLvVesKxb/l4nAXGGfRP1j5ZRCm6eE/TswOv6TX2z/Ckv5J5Ayhv7VN/JzrpOC/HGpupi1V57/R8XeniObivy7nSmD4I82/CX/+hA6PyD+xb8DQejvhP9QUWogw9OY/rclSwQGb5T8zAmYolgfdPw3kQdLAkck/9HOqg/dtsj8cfpsGtM+9P1EX22M1yM8/5fzgR0a41j+fUuW7c+/ZPw==",
          "dtype": "f8"
         }
        },
        {
         "line": {
          "color": "gold"
         },
         "mode": "lines",
         "name": "acceleration",
         "type": "scatter",
         "x": {
          "bdata": "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",
          "dtype": "f8"
         },
         "y": {
          "bdata": "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",
          "dtype": "f8"
         }
        },
        {
         "line": {
          "color": "green"
         },
         "mode": "lines",
         "name": "jerk",
         "type": "scatter",
         "x": {
          "bdata": "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",
          "dtype": "f8"
         },
         "y": {
          "bdata": "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",
          "dtype": "f8"
         }
        }
       ],
       "layout": {
        "template": {
         "data": {
          "bar": [
           {
            "error_x": {
             "color": "#2a3f5f"
            },
            "error_y": {
             "color": "#2a3f5f"
            },
            "marker": {
             "line": {
              "color": "#E5ECF6",
              "width": 0.5
             },
             "pattern": {
              "fillmode": "overlay",
              "size": 10,
              "solidity": 0.2
             }
            },
            "type": "bar"
           }
          ],
          "barpolar": [
           {
            "marker": {
             "line": {
              "color": "#E5ECF6",
              "width": 0.5
             },
             "pattern": {
              "fillmode": "overlay",
              "size": 10,
              "solidity": 0.2
             }
            },
            "type": "barpolar"
           }
          ],
          "carpet": [
           {
            "aaxis": {
             "endlinecolor": "#2a3f5f",
             "gridcolor": "white",
             "linecolor": "white",
             "minorgridcolor": "white",
             "startlinecolor": "#2a3f5f"
            },
            "baxis": {
             "endlinecolor": "#2a3f5f",
             "gridcolor": "white",
             "linecolor": "white",
             "minorgridcolor": "white",
             "startlinecolor": "#2a3f5f"
            },
            "type": "carpet"
           }
          ],
          "choropleth": [
           {
            "colorbar": {
             "outlinewidth": 0,
             "ticks": ""
            },
            "type": "choropleth"
           }
          ],
          "contour": [
           {
            "colorbar": {
             "outlinewidth": 0,
             "ticks": ""
            },
            "colorscale": [
             [
              0,
              "#0d0887"
             ],
             [
              0.1111111111111111,
              "#46039f"
             ],
             [
              0.2222222222222222,
              "#7201a8"
             ],
             [
              0.3333333333333333,
              "#9c179e"
             ],
             [
              0.4444444444444444,
              "#bd3786"
             ],
             [
              0.5555555555555556,
              "#d8576b"
             ],
             [
              0.6666666666666666,
              "#ed7953"
             ],
             [
              0.7777777777777778,
              "#fb9f3a"
             ],
             [
              0.8888888888888888,
              "#fdca26"
             ],
             [
              1,
              "#f0f921"
             ]
            ],
            "type": "contour"
           }
          ],
          "contourcarpet": [
           {
            "colorbar": {
             "outlinewidth": 0,
             "ticks": ""
            },
            "type": "contourcarpet"
           }
          ],
          "heatmap": [
           {
            "colorbar": {
             "outlinewidth": 0,
             "ticks": ""
            },
            "colorscale": [
             [
              0,
              "#0d0887"
             ],
             [
              0.1111111111111111,
              "#46039f"
             ],
             [
              0.2222222222222222,
              "#7201a8"
             ],
             [
              0.3333333333333333,
              "#9c179e"
             ],
             [
              0.4444444444444444,
              "#bd3786"
             ],
             [
              0.5555555555555556,
              "#d8576b"
             ],
             [
              0.6666666666666666,
              "#ed7953"
             ],
             [
              0.7777777777777778,
              "#fb9f3a"
             ],
             [
              0.8888888888888888,
              "#fdca26"
             ],
             [
              1,
              "#f0f921"
             ]
            ],
            "type": "heatmap"
           }
          ],
          "histogram": [
           {
            "marker": {
             "pattern": {
              "fillmode": "overlay",
              "size": 10,
              "solidity": 0.2
             }
            },
            "type": "histogram"
           }
          ],
          "histogram2d": [
           {
            "colorbar": {
             "outlinewidth": 0,
             "ticks": ""
            },
            "colorscale": [
             [
              0,
              "#0d0887"
             ],
             [
              0.1111111111111111,
              "#46039f"
             ],
             [
              0.2222222222222222,
              "#7201a8"
             ],
             [
              0.3333333333333333,
              "#9c179e"
             ],
             [
              0.4444444444444444,
              "#bd3786"
             ],
             [
              0.5555555555555556,
              "#d8576b"
             ],
             [
              0.6666666666666666,
              "#ed7953"
             ],
             [
              0.7777777777777778,
              "#fb9f3a"
             ],
             [
              0.8888888888888888,
              "#fdca26"
             ],
             [
              1,
              "#f0f921"
             ]
            ],
            "type": "histogram2d"
           }
          ],
          "histogram2dcontour": [
           {
            "colorbar": {
             "outlinewidth": 0,
             "ticks": ""
            },
            "colorscale": [
             [
              0,
              "#0d0887"
             ],
             [
              0.1111111111111111,
              "#46039f"
             ],
             [
              0.2222222222222222,
              "#7201a8"
             ],
             [
              0.3333333333333333,
              "#9c179e"
             ],
             [
              0.4444444444444444,
              "#bd3786"
             ],
             [
              0.5555555555555556,
              "#d8576b"
             ],
             [
              0.6666666666666666,
              "#ed7953"
             ],
             [
              0.7777777777777778,
              "#fb9f3a"
             ],
             [
              0.8888888888888888,
              "#fdca26"
             ],
             [
              1,
              "#f0f921"
             ]
            ],
            "type": "histogram2dcontour"
           }
          ],
          "mesh3d": [
           {
            "colorbar": {
             "outlinewidth": 0,
             "ticks": ""
            },
            "type": "mesh3d"
           }
          ],
          "parcoords": [
           {
            "line": {
             "colorbar": {
              "outlinewidth": 0,
              "ticks": ""
             }
            },
            "type": "parcoords"
           }
          ],
          "pie": [
           {
            "automargin": true,
            "type": "pie"
           }
          ],
          "scatter": [
           {
            "fillpattern": {
             "fillmode": "overlay",
             "size": 10,
             "solidity": 0.2
            },
            "type": "scatter"
           }
          ],
          "scatter3d": [
           {
            "line": {
             "colorbar": {
              "outlinewidth": 0,
              "ticks": ""
             }
            },
            "marker": {
             "colorbar": {
              "outlinewidth": 0,
              "ticks": ""
             }
            },
            "type": "scatter3d"
           }
          ],
          "scattercarpet": [
           {
            "marker": {
             "colorbar": {
              "outlinewidth": 0,
              "ticks": ""
             }
            },
            "type": "scattercarpet"
           }
          ],
          "scattergeo": [
           {
            "marker": {
             "colorbar": {
              "outlinewidth": 0,
              "ticks": ""
             }
            },
            "type": "scattergeo"
           }
          ],
          "scattergl": [
           {
            "marker": {
             "colorbar": {
              "outlinewidth": 0,
              "ticks": ""
             }
            },
            "type": "scattergl"
           }
          ],
          "scattermap": [
           {
            "marker": {
             "colorbar": {
              "outlinewidth": 0,
              "ticks": ""
             }
            },
            "type": "scattermap"
           }
          ],
          "scattermapbox": [
           {
            "marker": {
             "colorbar": {
              "outlinewidth": 0,
              "ticks": ""
             }
            },
            "type": "scattermapbox"
           }
          ],
          "scatterpolar": [
           {
            "marker": {
             "colorbar": {
              "outlinewidth": 0,
              "ticks": ""
             }
            },
            "type": "scatterpolar"
           }
          ],
          "scatterpolargl": [
           {
            "marker": {
             "colorbar": {
              "outlinewidth": 0,
              "ticks": ""
             }
            },
            "type": "scatterpolargl"
           }
          ],
          "scatterternary": [
           {
            "marker": {
             "colorbar": {
              "outlinewidth": 0,
              "ticks": ""
             }
            },
            "type": "scatterternary"
           }
          ],
          "surface": [
           {
            "colorbar": {
             "outlinewidth": 0,
             "ticks": ""
            },
            "colorscale": [
             [
              0,
              "#0d0887"
             ],
             [
              0.1111111111111111,
              "#46039f"
             ],
             [
              0.2222222222222222,
              "#7201a8"
             ],
             [
              0.3333333333333333,
              "#9c179e"
             ],
             [
              0.4444444444444444,
              "#bd3786"
             ],
             [
              0.5555555555555556,
              "#d8576b"
             ],
             [
              0.6666666666666666,
              "#ed7953"
             ],
             [
              0.7777777777777778,
              "#fb9f3a"
             ],
             [
              0.8888888888888888,
              "#fdca26"
             ],
             [
              1,
              "#f0f921"
             ]
            ],
            "type": "surface"
           }
          ],
          "table": [
           {
            "cells": {
             "fill": {
              "color": "#EBF0F8"
             },
             "line": {
              "color": "white"
             }
            },
            "header": {
             "fill": {
              "color": "#C8D4E3"
             },
             "line": {
              "color": "white"
             }
            },
            "type": "table"
           }
          ]
         },
         "layout": {
          "annotationdefaults": {
           "arrowcolor": "#2a3f5f",
           "arrowhead": 0,
           "arrowwidth": 1
          },
          "autotypenumbers": "strict",
          "coloraxis": {
           "colorbar": {
            "outlinewidth": 0,
            "ticks": ""
           }
          },
          "colorscale": {
           "diverging": [
            [
             0,
             "#8e0152"
            ],
            [
             0.1,
             "#c51b7d"
            ],
            [
             0.2,
             "#de77ae"
            ],
            [
             0.3,
             "#f1b6da"
            ],
            [
             0.4,
             "#fde0ef"
            ],
            [
             0.5,
             "#f7f7f7"
            ],
            [
             0.6,
             "#e6f5d0"
            ],
            [
             0.7,
             "#b8e186"
            ],
            [
             0.8,
             "#7fbc41"
            ],
            [
             0.9,
             "#4d9221"
            ],
            [
             1,
             "#276419"
            ]
           ],
           "sequential": [
            [
             0,
             "#0d0887"
            ],
            [
             0.1111111111111111,
             "#46039f"
            ],
            [
             0.2222222222222222,
             "#7201a8"
            ],
            [
             0.3333333333333333,
             "#9c179e"
            ],
            [
             0.4444444444444444,
             "#bd3786"
            ],
            [
             0.5555555555555556,
             "#d8576b"
            ],
            [
             0.6666666666666666,
             "#ed7953"
            ],
            [
             0.7777777777777778,
             "#fb9f3a"
            ],
            [
             0.8888888888888888,
             "#fdca26"
            ],
            [
             1,
             "#f0f921"
            ]
           ],
           "sequentialminus": [
            [
             0,
             "#0d0887"
            ],
            [
             0.1111111111111111,
             "#46039f"
            ],
            [
             0.2222222222222222,
             "#7201a8"
            ],
            [
             0.3333333333333333,
             "#9c179e"
            ],
            [
             0.4444444444444444,
             "#bd3786"
            ],
            [
             0.5555555555555556,
             "#d8576b"
            ],
            [
             0.6666666666666666,
             "#ed7953"
            ],
            [
             0.7777777777777778,
             "#fb9f3a"
            ],
            [
             0.8888888888888888,
             "#fdca26"
            ],
            [
             1,
             "#f0f921"
            ]
           ]
          },
          "colorway": [
           "#636efa",
           "#EF553B",
           "#00cc96",
           "#ab63fa",
           "#FFA15A",
           "#19d3f3",
           "#FF6692",
           "#B6E880",
           "#FF97FF",
           "#FECB52"
          ],
          "font": {
           "color": "#2a3f5f"
          },
          "geo": {
           "bgcolor": "white",
           "lakecolor": "white",
           "landcolor": "#E5ECF6",
           "showlakes": true,
           "showland": true,
           "subunitcolor": "white"
          },
          "hoverlabel": {
           "align": "left"
          },
          "hovermode": "closest",
          "mapbox": {
           "style": "light"
          },
          "paper_bgcolor": "white",
          "plot_bgcolor": "#E5ECF6",
          "polar": {
           "angularaxis": {
            "gridcolor": "white",
            "linecolor": "white",
            "ticks": ""
           },
           "bgcolor": "#E5ECF6",
           "radialaxis": {
            "gridcolor": "white",
            "linecolor": "white",
            "ticks": ""
           }
          },
          "scene": {
           "xaxis": {
            "backgroundcolor": "#E5ECF6",
            "gridcolor": "white",
            "gridwidth": 2,
            "linecolor": "white",
            "showbackground": true,
            "ticks": "",
            "zerolinecolor": "white"
           },
           "yaxis": {
            "backgroundcolor": "#E5ECF6",
            "gridcolor": "white",
            "gridwidth": 2,
            "linecolor": "white",
            "showbackground": true,
            "ticks": "",
            "zerolinecolor": "white"
           },
           "zaxis": {
            "backgroundcolor": "#E5ECF6",
            "gridcolor": "white",
            "gridwidth": 2,
            "linecolor": "white",
            "showbackground": true,
            "ticks": "",
            "zerolinecolor": "white"
           }
          },
          "shapedefaults": {
           "line": {
            "color": "#2a3f5f"
           }
          },
          "ternary": {
           "aaxis": {
            "gridcolor": "white",
            "linecolor": "white",
            "ticks": ""
           },
           "baxis": {
            "gridcolor": "white",
            "linecolor": "white",
            "ticks": ""
           },
           "bgcolor": "#E5ECF6",
           "caxis": {
            "gridcolor": "white",
            "linecolor": "white",
            "ticks": ""
           }
          },
          "title": {
           "x": 0.05
          },
          "xaxis": {
           "automargin": true,
           "gridcolor": "white",
           "linecolor": "white",
           "ticks": "",
           "title": {
            "standoff": 15
           },
           "zerolinecolor": "white",
           "zerolinewidth": 2
          },
          "yaxis": {
           "automargin": true,
           "gridcolor": "white",
           "linecolor": "white",
           "ticks": "",
           "title": {
            "standoff": 15
           },
           "zerolinecolor": "white",
           "zerolinewidth": 2
          }
         }
        },
        "xaxis": {
         "range": [
          1800,
          2600
         ]
        }
       }
      }
     },
     "metadata": {},
     "output_type": "display_data"
    }
   ],
   "source": [
    "# function that differientates and butterworth filters the speed vector\n",
    "def derive_it(x):\n",
    "    x = np.concatenate(([0], np.diff(x)))\n",
    "    x= butter_it(x, sampling_rate=100, order=2, lowpass_cutoff=20)\n",
    "    return x\n",
    "\n",
    "# function to calculate the speed vector\n",
    "def get_speed_vector(x, y, z, time_millisecond):\n",
    "#     z = abs(z)\n",
    "    # calculate the Euclidean distance from time point x to time point x+1, for 3 dimensions\n",
    "    speed = np.concatenate(([0], np.sqrt(np.diff(x) ** 2 + np.diff(y) ** 2 + np.diff(z) ** 2)))\n",
    "    speed = butter_it(speed, sampling_rate=100, order=2, lowpass_cutoff=20)\n",
    "\n",
    "    # scale the speed vector so that we express it units change per second change\n",
    "    time_diff = np.mean(np.diff(time_millisecond)) / 1000\n",
    "    speed = speed / time_diff\n",
    "    return speed\n",
    "\n",
    "# function to scale the time series\n",
    "def sc_it(x):\n",
    "    return (x - np.mean(x)) / np.std(x, ddof=0)\n",
    "\n",
    "#make a new variable in a pandas dataframe\n",
    "data['speed'] = get_speed_vector(data['X_RIGHT_INDEX'], data['Y_RIGHT_INDEX'], data['Z_RIGHT_INDEX'], data['time'])\n",
    "data['vertical_velocity'] = derive_it(data['Y_RIGHT_INDEX'])/np.mean(np.diff(data['time']))\n",
    "data['acceleration'] = derive_it(data['speed'])\n",
    "data['jerk'] = derive_it(data['acceleration'])\n",
    "\n",
    "cs = ['speed', 'vertical_velocity', 'acceleration', 'jerk']\n",
    "data[cs] = data[cs].apply(lambda x: sc_it(x)) #to ensure that the different features are on a similar scale\n",
    "\n",
    "\n",
    "# Create the plot using Plotly Express (px)\n",
    "# Create the second plot\n",
    "fig4 = go.Figure()\n",
    "fig4.add_trace(go.Scatter(x=data['time'], y=data['speed'], name='speed', mode='lines', line=dict(color='black')))\n",
    "fig4.add_trace(go.Scatter(x=data['time'], y=data['vertical_velocity'], name='vertical velocity', mode='lines', line=dict(color='red')))\n",
    "fig4.add_trace(go.Scatter(x=data['time'], y=data['acceleration'], name='acceleration', mode='lines', line=dict(color='gold')))\n",
    "fig4.add_trace(go.Scatter(x=data['time'], y=data['jerk'], name='jerk', mode='lines', line=dict(color='green')))\n",
    "# show only a portion of the plot for the x axis\n",
    "fig4.update_xaxes(range=[1800, 2600])\n",
    "fig4.show()"
   ]
  },
  {
   "cell_type": "code",
   "execution_count": null,
   "id": "83e29d67",
   "metadata": {},
   "outputs": [],
   "source": []
  }
 ],
 "metadata": {
  "kernelspec": {
   "display_name": "MPI_ferpaa",
   "language": "python",
   "name": "python3"
  },
  "language_info": {
   "codemirror_mode": {
    "name": "ipython",
    "version": 3
   },
   "file_extension": ".py",
   "mimetype": "text/x-python",
   "name": "python",
   "nbconvert_exporter": "python",
   "pygments_lexer": "ipython3",
   "version": "3.10.16"
  }
 },
 "nbformat": 4,
 "nbformat_minor": 5
}
