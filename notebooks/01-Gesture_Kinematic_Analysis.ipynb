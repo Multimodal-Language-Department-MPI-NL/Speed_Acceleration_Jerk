{
  "cells": [
    {
      "cell_type": "markdown",
      "metadata": {},
      "source": [
        "## Gesture Kinematic Analysis\n"
      ]
    },
    {
      "cell_type": "markdown",
      "metadata": {},
      "source": [
        "In this tutorial, we learn how to compute the kinematic features (speed, velocity, acceleration and jerk) for gestures using Mediapipe keypoints.\n"
      ]
    },
    {
      "cell_type": "markdown",
      "metadata": {},
      "source": [
        "## Script Overview\n"
      ]
    },
    {
      "cell_type": "markdown",
      "metadata": {},
      "source": [
        " - Import necessary packages\n",
        " - Read saved Mediapipe keypoints \n",
        " - Normalise the keypoints\n",
        " - Perform smoothing\n",
        " - Extract the speed, velocity, acceleration, and jerk\n",
        " - Visualise the kinematic measures\n"
      ]
    },
    {
      "cell_type": "markdown",
      "metadata": {},
      "source": [
        "Citation: Pouw, W. (2023). Selecting, smoothing, and deriving measures from motion tracking, and merging with acoustics and annotations. Retrieved from: https://envisionbox.org/embedded_MergingMultimodal_inPython.html\n"
      ]
    },
    {
      "cell_type": "code",
      "execution_count": null,
      "metadata": {},
      "outputs": [],
      "source": [
        "import pandas as pd\n",
        "import matplotlib.pyplot as plt\n",
        "import numpy as np\n",
        "\n",
        "import plotly.graph_objects as go\n",
        "from scipy.signal import butter, filtfilt\n",
        "\n",
        "from mpl_toolkits.mplot3d import Axes3D\n",
        "%matplotlib notebook\n"
      ]
    },
    {
      "cell_type": "code",
      "execution_count": null,
      "metadata": {},
      "outputs": [],
      "source": [
        "data = pd.read_csv('sample1_body.csv')\n",
        "data.head()\n"
      ]
    },
    {
      "cell_type": "markdown",
      "metadata": {},
      "source": [
        "## Normalisation \n"
      ]
    },
    {
      "cell_type": "markdown",
      "metadata": {},
      "source": [
        "Normalization of keypoints is important for ensuring a consistent representation of poses across different frames and individuals. Moreover, it addresses the potential variance in the actual position of a person in the image, directing the pose representation to emphasize the relative positions of body parts rather than their absolute positions.\n",
        "\n",
        "\n",
        "The following code normalizes a set of keypoints representing a skeleton by centering them around the mean position between the left and right shoulders and scaling them based on the distance between these shoulders. \n"
      ]
    },
    {
      "cell_type": "code",
      "execution_count": null,
      "metadata": {},
      "outputs": [],
      "source": [
        "def normalize_skeleton_landmarks(keypoints):\n",
        "    left_shoulder, right_shoulder = 11, 12  # Assuming the indices for left and right shoulder in markersbody\n",
        "    mid = keypoints[:, [left_shoulder, right_shoulder], :].mean(axis=1, keepdims=True)\n",
        "\n",
        "    shoulder_length = np.linalg.norm(keypoints[:, left_shoulder, :] - keypoints[:, right_shoulder, :], ord=2, axis=1)\n",
        "    normalized_keypts = (keypoints - mid) / shoulder_length[:, None, None]\n",
        "    return normalized_keypts\n"
      ]
    },
    {
      "cell_type": "code",
      "execution_count": null,
      "metadata": {},
      "outputs": [],
      "source": [
        "markersbody = ['NOSE', 'LEFT_EYE_INNER', 'LEFT_EYE', 'LEFT_EYE_OUTER', 'RIGHT_EYE_INNER', 'RIGHT_EYE', 'RIGHT_EYE_OUTER',\n",
        "          'LEFT_EAR', 'RIGHT_EAR', 'MOUTH_LEFT', 'MOUTH_RIGHT', 'LEFT_SHOULDER', 'RIGHT_SHOULDER', 'LEFT_ELBOW', \n",
        "          'RIGHT_ELBOW', 'LEFT_WRIST', 'RIGHT_WRIST', 'LEFT_PINKY', 'RIGHT_PINKY', 'LEFT_INDEX', 'RIGHT_INDEX',\n",
        "          'LEFT_THUMB', 'RIGHT_THUMB', 'LEFT_HIP', 'RIGHT_HIP', 'LEFT_KNEE', 'RIGHT_KNEE', 'LEFT_ANKLE', 'RIGHT_ANKLE',\n",
        "          'LEFT_HEEL', 'RIGHT_HEEL', 'LEFT_FOOT_INDEX', 'RIGHT_FOOT_INDEX']\n",
        "\n",
        "xyz_columns = [axis + '_' + landmark  for landmark in markersbody for axis in ['X', 'Y', 'Z']]\n",
        "\n",
        "\n",
        "# Select only the columns representing X, Y, Z coordinates\n",
        "keypoints_columns = data[xyz_columns]\n",
        "\n",
        "\n",
        "# Take the absolute value of Z coordinates\n",
        "z_columns = [col for col in keypoints_columns.columns if col.startswith('Z_')]\n",
        "\n",
        "# Reshape the data into the required format (num_frames, num_keypoints, 3)\n",
        "num_keypoints = len(xyz_columns) // 3\n",
        "keypoints_array = keypoints_columns.values.reshape(-1, num_keypoints, 3)\n",
        "\n",
        "# Apply normalization function\n",
        "normalized_keypoints = normalize_skeleton_landmarks(keypoints_array)\n",
        "\n",
        "# Update the DataFrame with the normalized values\n",
        "normalized_keypoints_df = pd.DataFrame(normalized_keypoints.reshape(-1, num_keypoints * 3), columns=xyz_columns)\n"
      ]
    },
    {
      "cell_type": "markdown",
      "metadata": {},
      "source": [
        "## Data Visualisation\n"
      ]
    }
  ],
  "metadata": {
    "language_info": {
      "name": "python"
    }
  },
  "nbformat": 4,
  "nbformat_minor": 2
}
